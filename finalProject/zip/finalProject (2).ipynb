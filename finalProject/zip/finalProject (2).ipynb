{
 "cells": [
  {
   "cell_type": "code",
   "execution_count": 1,
   "metadata": {},
   "outputs": [],
   "source": [
    "import pandas as pd\n",
    "import numpy as np\n",
    "import yfinance as yf\n",
    "import matplotlib.pyplot as plt\n",
    "from datetime import datetime, timedelta\n",
    "from pytz import timezone\n",
    "from pandas.plotting import register_matplotlib_converters\n",
    "import scipy\n",
    "from scipy.optimize import Bounds\n",
    "from scipy.optimize import LinearConstraint\n",
    "from scipy.optimize import minimize\n",
    "\n",
    "register_matplotlib_converters()\n",
    "import warnings\n",
    "warnings.simplefilter(action='ignore', category=FutureWarning)"
   ]
  },
  {
   "cell_type": "code",
   "execution_count": 2,
   "metadata": {},
   "outputs": [],
   "source": [
    "def plot_col(data , col_name):\n",
    "    plt.figure(figsize=(16, 6))\n",
    "    plt.plot(data.index, data[col_name], label=col_name, color='purple', )\n",
    "    # plt.plot(data.index, data['col_name'], label='col_name', color='purple', linestyle='--')\n",
    "    plt.xlabel('Date')\n",
    "    plt.ylabel(f'{col_name}')\n",
    "    plt.legend()\n",
    "    plt.show()"
   ]
  },
  {
   "cell_type": "code",
   "execution_count": 3,
   "metadata": {},
   "outputs": [],
   "source": [
    "def download_data(symbols, start_date, end_date):\n",
    "\n",
    "    try:\n",
    "        data = yf.download(symbols, start=start_date, end=end_date, interval='1d')['Adj Close']\n",
    "    except: \n",
    "        SyntaxError(\"Exception in downloading data\")\n",
    "    data.replace([np.inf, -np.inf], np.nan, inplace=True)\n",
    "    data.dropna(inplace=True)\n",
    "    return data"
   ]
  },
  {
   "cell_type": "code",
   "execution_count": 4,
   "metadata": {},
   "outputs": [],
   "source": [
    "train_start = datetime(2022, 11, 1, tzinfo=timezone('Asia/Tehran'))\n",
    "train_end = datetime(2023, 11, 1, tzinfo=timezone('Asia/Tehran'))\n",
    "cryptos = ['BTC-USD', 'ETH-USD', 'USDT-USD', 'TRX-USD',]"
   ]
  },
  {
   "cell_type": "code",
   "execution_count": 5,
   "metadata": {},
   "outputs": [
    {
     "name": "stdout",
     "output_type": "stream",
     "text": [
      "[*********************100%%**********************]  4 of 4 completed\n"
     ]
    }
   ],
   "source": [
    "df = download_data(cryptos, train_start, train_end)"
   ]
  },
  {
   "cell_type": "code",
   "execution_count": 6,
   "metadata": {},
   "outputs": [
    {
     "data": {
      "text/html": [
       "<div>\n",
       "<style scoped>\n",
       "    .dataframe tbody tr th:only-of-type {\n",
       "        vertical-align: middle;\n",
       "    }\n",
       "\n",
       "    .dataframe tbody tr th {\n",
       "        vertical-align: top;\n",
       "    }\n",
       "\n",
       "    .dataframe thead th {\n",
       "        text-align: right;\n",
       "    }\n",
       "</style>\n",
       "<table border=\"1\" class=\"dataframe\">\n",
       "  <thead>\n",
       "    <tr style=\"text-align: right;\">\n",
       "      <th></th>\n",
       "      <th>BTC-USD</th>\n",
       "      <th>ETH-USD</th>\n",
       "      <th>TRX-USD</th>\n",
       "      <th>USDT-USD</th>\n",
       "    </tr>\n",
       "    <tr>\n",
       "      <th>Date</th>\n",
       "      <th></th>\n",
       "      <th></th>\n",
       "      <th></th>\n",
       "      <th></th>\n",
       "    </tr>\n",
       "  </thead>\n",
       "  <tbody>\n",
       "    <tr>\n",
       "      <th>2022-10-31</th>\n",
       "      <td>20495.773438</td>\n",
       "      <td>1572.714478</td>\n",
       "      <td>0.063308</td>\n",
       "      <td>0.999947</td>\n",
       "    </tr>\n",
       "    <tr>\n",
       "      <th>2022-11-01</th>\n",
       "      <td>20485.273438</td>\n",
       "      <td>1579.704590</td>\n",
       "      <td>0.062815</td>\n",
       "      <td>0.999924</td>\n",
       "    </tr>\n",
       "    <tr>\n",
       "      <th>2022-11-02</th>\n",
       "      <td>20159.503906</td>\n",
       "      <td>1519.711792</td>\n",
       "      <td>0.061561</td>\n",
       "      <td>0.999996</td>\n",
       "    </tr>\n",
       "    <tr>\n",
       "      <th>2022-11-03</th>\n",
       "      <td>20209.988281</td>\n",
       "      <td>1531.541748</td>\n",
       "      <td>0.061789</td>\n",
       "      <td>1.000007</td>\n",
       "    </tr>\n",
       "    <tr>\n",
       "      <th>2022-11-04</th>\n",
       "      <td>21147.230469</td>\n",
       "      <td>1645.093384</td>\n",
       "      <td>0.063753</td>\n",
       "      <td>1.000076</td>\n",
       "    </tr>\n",
       "  </tbody>\n",
       "</table>\n",
       "</div>"
      ],
      "text/plain": [
       "                 BTC-USD      ETH-USD   TRX-USD  USDT-USD\n",
       "Date                                                     \n",
       "2022-10-31  20495.773438  1572.714478  0.063308  0.999947\n",
       "2022-11-01  20485.273438  1579.704590  0.062815  0.999924\n",
       "2022-11-02  20159.503906  1519.711792  0.061561  0.999996\n",
       "2022-11-03  20209.988281  1531.541748  0.061789  1.000007\n",
       "2022-11-04  21147.230469  1645.093384  0.063753  1.000076"
      ]
     },
     "execution_count": 6,
     "metadata": {},
     "output_type": "execute_result"
    }
   ],
   "source": [
    "df.head()"
   ]
  },
  {
   "cell_type": "code",
   "execution_count": 7,
   "metadata": {},
   "outputs": [],
   "source": [
    "randomWeights = [0.2, 0.3, 0.4, 0.1]\n",
    "\n",
    "\n",
    "\n",
    "money_at_first = 1000\n",
    "\n",
    "ret_data = df.pct_change()[1:]\n",
    "\n",
    "# print(ret_data)\n"
   ]
  },
  {
   "cell_type": "code",
   "execution_count": 8,
   "metadata": {},
   "outputs": [],
   "source": [
    "randomweighted_returns = (randomWeights * ret_data)\n",
    "# print(randomweighted_returns)"
   ]
  },
  {
   "cell_type": "code",
   "execution_count": 10,
   "metadata": {},
   "outputs": [],
   "source": [
    "port_ret_with_random_weights = randomweighted_returns.sum(axis=1)\n",
    "\n",
    "# print(port_ret_with_random_weights)"
   ]
  },
  {
   "cell_type": "code",
   "execution_count": 11,
   "metadata": {},
   "outputs": [],
   "source": [
    "def sortinoRate(rets , TargetReturn):\n",
    "    downside_returns = np.minimum(0 , rets-TargetReturn)\n",
    "    downside_variance =  np.mean(downside_returns**2)\n",
    "    downside_std = np.sqrt(downside_variance)\n",
    "    sortino_rate = (np.mean(rets) - TargetReturn) / downside_std\n",
    "\n",
    "    return sortino_rate"
   ]
  },
  {
   "cell_type": "markdown",
   "metadata": {},
   "source": [
    "#### Random Weight statistics\n"
   ]
  },
  {
   "cell_type": "code",
   "execution_count": 12,
   "metadata": {},
   "outputs": [
    {
     "name": "stdout",
     "output_type": "stream",
     "text": [
      "Random Weight Sharpe Ratio:0.99\n",
      "Random Weight Sortino Ratio:1.58\n",
      "Random Weight Net Profit: 416.4285$ percentage:41.64%\n"
     ]
    }
   ],
   "source": [
    "expected_port_return = np.mean(port_ret_with_random_weights) \n",
    "annual_risk_free_ratio = 0.04\n",
    "daily_risk_free_ratio =  (1+annual_risk_free_ratio) ** (1/365) -1\n",
    "std_of_returns = np.std(port_ret_with_random_weights)\n",
    "initialCapital = 1000\n",
    "randomWeightedSharpRatio_1year = np.sqrt(365) * ((expected_port_return - daily_risk_free_ratio) / std_of_returns)\n",
    "randomWeightedSortinoRatio_1year = np.sqrt(365) * sortinoRate(port_ret_with_random_weights , 0)\n",
    "port_cumulative_returns  = np.cumprod(1+port_ret_with_random_weights)\n",
    "net_profit_over_time_1year = initialCapital * port_cumulative_returns\n",
    "\n",
    "final_net_profit = net_profit_over_time_1year[-1] - initialCapital\n",
    "final_net_profit_percent = final_net_profit/initialCapital * 100\n",
    "print(\"Random Weight Sharpe Ratio:{:.2f}\".format(randomWeightedSharpRatio_1year))\n",
    "print(\"Random Weight Sortino Ratio:{:.2f}\".format(randomWeightedSortinoRatio_1year))\n",
    "print(\"Random Weight Net Profit: {:.4f}$\".format(final_net_profit) + \" percentage:\" + \"{:.2f}%\".format(final_net_profit_percent))"
   ]
  },
  {
   "cell_type": "markdown",
   "metadata": {},
   "source": [
    "# Optimization Problem:\n",
    "so here we have a optimization problem in which we want to maximize sharpe ratio | sortino rate | net profit. \n",
    "for sharpe ratio and sortino rate we can say that in other words we want to minimize 1/1+sharpe ratio and 1/1+sortino ratio\n",
    "so now we define appropriate functions to give to scipy for this purpose  \n",
    "\n",
    "\n",
    "### Important Note:\n",
    "\n",
    "We should write the calculations from the point that weights come to the play because we are optimizing weights."
   ]
  },
  {
   "cell_type": "code",
   "execution_count": 13,
   "metadata": {},
   "outputs": [],
   "source": [
    "def calculateRequirements(weights:list):\n",
    "    weighted_rets = ret_data * weights\n",
    "    port_ret = weighted_rets.sum(axis=1)\n",
    "    expected_optimized_port_return = np.mean(port_ret)\n",
    "    stdDevOfRets = np.std(port_ret)\n",
    "    op_port_cumulative_returns  = np.cumprod(1+port_ret)\n",
    "\n",
    "    return [expected_optimized_port_return , stdDevOfRets , port_ret , op_port_cumulative_returns]\n",
    "\n",
    "def calcSharpe(expRet , stdDevRet):\n",
    "    sharpe = np.sqrt(365) * ((expRet - daily_risk_free_ratio) / stdDevRet) \n",
    "    return sharpe\n",
    "\n",
    "def calcSortino(portRets):\n",
    "     sortino = np.sqrt(365) * sortinoRate(portRets , 0)\n",
    "     return sortino\n",
    "def calcNetProfit(op_port_cumulative_returns):\n",
    "    netPOverTime  = initialCapital * op_port_cumulative_returns\n",
    "    final_net_p = netPOverTime[-1] - initialCapital\n",
    "    return final_net_p\n",
    "def get_reverse_sharpeRatio(weights:list):\n",
    "    op_expectedPortfolioReturn  , op_stdDevRet , port_rets , op_port_cumulative_returns = calculateRequirements(weights=weights)\n",
    "    op_sharpe = calcSharpe(op_expectedPortfolioReturn , op_stdDevRet)\n",
    "    reverseSharpe = 1/(1+op_sharpe) \n",
    "    return reverseSharpe\n",
    "def get_reverse_sortinoRatio(weights:list):\n",
    "    op_expectedPortfolioReturn  , op_stdDevRet, port_rets , op_port_cumulative_returns = calculateRequirements(weights=weights)\n",
    "    op_sortino = calcSortino(port_rets)\n",
    "    reverseSortino = 2/(1+op_sortino) \n",
    "    return reverseSortino\n",
    "\n",
    "def get_reverse_net_profit(weights:list):\n",
    "    op_expectedPortfolioReturn  , op_stdDevRet, port_rets , op_port_cumulative_returns = calculateRequirements(weights=weights)\n",
    "    netProfit = calcNetProfit(op_port_cumulative_returns=op_port_cumulative_returns)\n",
    "    reverseNetProfit = 1/netProfit\n",
    "    return reverseNetProfit\n",
    "    \n",
    "\n",
    "def check_sum_constraint(weights:list):\n",
    "    # checks if sum of weights is 1 or not\n",
    "    return np.sum(weights) - 1\n",
    "\n",
    "def mix_weights(sharpe_weights, sortino_weights, net_profit_weights) -> list:\n",
    "    lenght = len(sharpe_weights)\n",
    "    mixed_weights = [0 for _ in range(lenght)]\n",
    "    for i in range(lenght):\n",
    "        mixed_weights[i] = (sharpe_weights[i]+ sortino_weights[i] + net_profit_weights[i]) / 3\n",
    "    sum = np.sum(mixed_weights)\n",
    "# 0  0 .7 .3 \n",
    "# .9 .1 0 0\n",
    "\n",
    "    if sum < 1:\n",
    "        rem = sum -1\n",
    "        max_val = max(mixed_weights)\n",
    "        index_max_val = mixed_weights.index(max_val)\n",
    "        mixed_weights[index_max_val] += rem\n",
    "    elif sum > 1:\n",
    "        rem = 1 - sum\n",
    "        max_val = max(mixed_weights)\n",
    "        index_max_val = mixed_weights.index(max_val)\n",
    "        mixed_weights[index_max_val] -= rem\n",
    "        \n",
    "    return mixed_weights"
   ]
  },
  {
   "cell_type": "markdown",
   "metadata": {},
   "source": [
    "## setting constraints and bounds on weights"
   ]
  },
  {
   "cell_type": "code",
   "execution_count": 14,
   "metadata": {},
   "outputs": [],
   "source": [
    "bounds = tuple((0,1) for coin in range(len(cryptos)))\n",
    "\n",
    "\n",
    "constraints = ({'type': 'eq', 'fun': check_sum_constraint}) \n",
    "initialWeightGuess = len(cryptos) * [1/len(cryptos)]\n"
   ]
  },
  {
   "cell_type": "markdown",
   "metadata": {},
   "source": [
    "<br>\n",
    "<br>\n",
    "<br>\n",
    "<br>\n",
    "<br>\n",
    "<br>\n",
    "<br>\n",
    "<br>\n",
    "<br>\n",
    "<br>\n",
    "<br>"
   ]
  },
  {
   "cell_type": "markdown",
   "metadata": {},
   "source": [
    "### Optimizing Sharpe on 1 year period"
   ]
  },
  {
   "cell_type": "code",
   "execution_count": 15,
   "metadata": {},
   "outputs": [
    {
     "name": "stdout",
     "output_type": "stream",
     "text": [
      "OUR RANDOM WEIGHTS: \n",
      "[0.2, 0.3, 0.4, 0.1]\n",
      "----------------------------------------------------------------------------------------------------\n",
      "OPTIMIZED WEIGHTS  SHARPE: \n",
      "[6.36687809e-01 5.48606299e-17 3.63312191e-01 3.20923843e-17]\n",
      "----------------------------------------------------------------------------------------------------\n",
      "SHARPE WITH RANDOM WEIGHTS:\n",
      "0.9871695627521195\n",
      "----------------------------------------------------------------------------------------------------\n",
      "SHARPE WITH OPTIMIZED WEIGHTS:\n",
      "1.3277426269004946\n"
     ]
    }
   ],
   "source": [
    "optimizedSharpe_1year = minimize(get_reverse_sharpeRatio , initialWeightGuess , method='SLSQP' , bounds=bounds , constraints=constraints)\n",
    "\n",
    "op_weights_for_sharpe_1year = optimizedSharpe_1year.x\n",
    "print(\"OUR RANDOM WEIGHTS: \")\n",
    "print(randomWeights)\n",
    "print('-' *100)\n",
    "\n",
    "\n",
    "print(\"OPTIMIZED WEIGHTS  SHARPE: \")\n",
    "print(op_weights_for_sharpe_1year)\n",
    "print('-' *100)\n",
    "\n",
    "\n",
    "op_expectedPortfolioReturn  , op_stdDevRet, port_rets , op_port_cumulative_returns = calculateRequirements(weights=op_weights_for_sharpe_1year)\n",
    "optimizedSharpeRatio_1year = calcSharpe(op_expectedPortfolioReturn , op_stdDevRet)\n",
    "\n",
    "\n",
    "print(\"SHARPE WITH RANDOM WEIGHTS:\")\n",
    "print(randomWeightedSharpRatio_1year)\n",
    "print('-' *100)\n",
    "print(\"SHARPE WITH OPTIMIZED WEIGHTS:\")\n",
    "print(optimizedSharpeRatio_1year)"
   ]
  },
  {
   "cell_type": "markdown",
   "metadata": {},
   "source": [
    "#### Optimizing Sortino for the 1 year period"
   ]
  },
  {
   "cell_type": "code",
   "execution_count": 16,
   "metadata": {},
   "outputs": [
    {
     "name": "stdout",
     "output_type": "stream",
     "text": [
      "OUR RANDOM WEIGHTS: \n",
      "[0.2, 0.3, 0.4, 0.1]\n",
      "----------------------------------------------------------------------------------------------------\n",
      "OPTIMIZED WEIGHTS FOR SORTINO: \n",
      "[6.08433920e-01 3.49113100e-16 1.80722829e-01 2.10843251e-01]\n",
      "----------------------------------------------------------------------------------------------------\n",
      "SORTINO WITH RANDOM WEIGHTS:\n",
      "1.5781453717534433\n",
      "----------------------------------------------------------------------------------------------------\n",
      "SORTINO WITH OPTIMIZED WEIGHTS:\n",
      "2.1659201487763062\n"
     ]
    }
   ],
   "source": [
    "optimizedSortino_1year = minimize(get_reverse_sortinoRatio , initialWeightGuess , method='SLSQP' , bounds=bounds , constraints=constraints)\n",
    "\n",
    "op_weights_for_sortino_1year = optimizedSortino_1year.x\n",
    "\n",
    "print(\"OUR RANDOM WEIGHTS: \")\n",
    "print(randomWeights)\n",
    "print('-' *100)\n",
    "\n",
    "\n",
    "print(\"OPTIMIZED WEIGHTS FOR SORTINO: \")\n",
    "print(op_weights_for_sortino_1year)\n",
    "print('-' *100)\n",
    "\n",
    "op_expectedPortfolioReturn  , op_stdDevRet, port_rets , op_port_cumulative_returns = calculateRequirements(weights=op_weights_for_sortino_1year)\n",
    "optimizedSortinoRatio_1year = calcSortino(portRets=port_rets)\n",
    "\n",
    "print(\"SORTINO WITH RANDOM WEIGHTS:\")\n",
    "print(randomWeightedSortinoRatio_1year)\n",
    "print('-' *100)\n",
    "print(\"SORTINO WITH OPTIMIZED WEIGHTS:\")\n",
    "print(optimizedSortinoRatio_1year)"
   ]
  },
  {
   "cell_type": "markdown",
   "metadata": {},
   "source": [
    "### Optimizing Net Profit for the 1 year period\n"
   ]
  },
  {
   "cell_type": "code",
   "execution_count": 17,
   "metadata": {},
   "outputs": [
    {
     "name": "stdout",
     "output_type": "stream",
     "text": [
      "OUR RANDOM WEIGHTS: \n",
      "[0.2, 0.3, 0.4, 0.1]\n",
      "----------------------------------------------------------------------------------------------------\n",
      "OPTIMIZED WEIGHTS FOR NET PROFIT: \n",
      "[5.67118731e-01 0.00000000e+00 4.32881269e-01 2.70508442e-17]\n",
      "----------------------------------------------------------------------------------------------------\n",
      "NET Profit WITH RANDOM WEIGHTS:\n",
      "416.43$ percentage: 41.64%\n",
      "----------------------------------------------------------------------------------------------------\n",
      "NET PROFIT WITH OPTIMIZED WEIGHTS:\n",
      "651.36$ percentage: 65.14%\n"
     ]
    }
   ],
   "source": [
    "optimizedNetProfit = minimize(\n",
    "    get_reverse_net_profit,\n",
    "    initialWeightGuess,\n",
    "    method=\"SLSQP\",\n",
    "    bounds=bounds,\n",
    "    constraints=constraints,\n",
    ")\n",
    "\n",
    "\n",
    "op_weights_for_net_profit_1year = optimizedNetProfit.x\n",
    "print(\"OUR RANDOM WEIGHTS: \")\n",
    "print(randomWeights)\n",
    "print(\"-\" * 100)\n",
    "\n",
    "\n",
    "print(\"OPTIMIZED WEIGHTS FOR NET PROFIT: \")\n",
    "print(op_weights_for_net_profit_1year)\n",
    "print(\"-\" * 100)\n",
    "\n",
    "\n",
    "(\n",
    "    op_expectedPortfolioReturn,\n",
    "    op_stdDevRet,\n",
    "    port_rets,\n",
    "    op_port_cumulative_returns,\n",
    ") = calculateRequirements(weights=op_weights_for_net_profit_1year)\n",
    "optimizedNetProfitVal_1year = calcNetProfit(\n",
    "    op_port_cumulative_returns=op_port_cumulative_returns\n",
    ")\n",
    "optimizedNetProfitPercent_1year = optimizedNetProfitVal_1year / initialCapital * 100\n",
    "final_net_profit_year1 = final_net_profit\n",
    "print(\"NET Profit WITH RANDOM WEIGHTS:\")\n",
    "print(\"{:.2f}\".format(final_net_profit) + '$' + \" percentage: \" + \"{:.2f}%\".format(final_net_profit_percent))\n",
    "print(\"-\" * 100)\n",
    "print(\"NET PROFIT WITH OPTIMIZED WEIGHTS:\")\n",
    "print(\n",
    "    \"{:.2f}\".format(optimizedNetProfitVal_1year) + '$'+\n",
    "     ' percentage: '\n",
    "    + \"{:.2f}%\".format(optimizedNetProfitPercent_1year)\n",
    ")"
   ]
  },
  {
   "cell_type": "markdown",
   "metadata": {},
   "source": [
    "### Optimizing metrics for the 1 year period based on mixing optimized weights.\n"
   ]
  },
  {
   "cell_type": "code",
   "execution_count": 29,
   "metadata": {},
   "outputs": [
    {
     "name": "stdout",
     "output_type": "stream",
     "text": [
      "OPTIMIZED WEIGHTS FOR MIX OF 3 METRICS: \n",
      "[0.6040801533096427, 1.3465790982269965e-16, 0.32563876309425394, 0.0702810835961031]\n",
      "----------------------------------------------------------------------------------------------------\n",
      "SHARPE RATIO:\n",
      " 0.9871695627521195  ----> 2.1725883440754092\n",
      "----------------------------------------------------------------------------------------------------\n",
      "SORTINO RATIO:\n",
      " 1.5781453717534433  ---->  3.532684161893818\n",
      "----------------------------------------------------------------------------------------------------\n",
      "NET PROFIT:\n",
      "44.62536837253742  ---->  66.42$ percentage: 6.64%\n",
      "----------------------------------------------------------------------------------------------------\n"
     ]
    }
   ],
   "source": [
    "mixed_weights_last_year = mix_weights(op_weights_for_sharpe_1year, op_weights_for_sortino_1year, op_weights_for_net_profit_1year)\n",
    "\n",
    "mixed_return  , op_stdDevRet, port_rets , op_port_cumulative_returns = calculateRequirements(weights=mixed_weights_last_year)\n",
    "mixed_sharpe = calcSharpe(mixed_return , op_stdDevRet)\n",
    "mixed_sortino = calcSortino(portRets=port_rets)\n",
    "mixed_net_profit_val= calcNetProfit(\n",
    "    op_port_cumulative_returns=op_port_cumulative_returns\n",
    ")\n",
    "net_profit_percent = mixed_net_profit_val / initialCapital * 100\n",
    "\n",
    "\n",
    "print(\"OPTIMIZED WEIGHTS FOR MIX OF 3 METRICS: \")\n",
    "print(mixed_weights_last_year)\n",
    "print('-' * 100)\n",
    "print('SHARPE RATIO:\\n', randomWeightedSharpRatio_1year, ' ---->', mixed_sharpe)\n",
    "print('-' * 100)\n",
    "print('SORTINO RATIO:\\n', randomWeightedSortinoRatio_1year, ' ----> ', mixed_sortino)\n",
    "print('-' * 100)\n",
    "print('NET PROFIT:')\n",
    "print(final_net_profit, ' ----> ',\n",
    "    \"{:.2f}\".format(mixed_net_profit_val) + '$'+\n",
    "     ' percentage: '\n",
    "    + \"{:.2f}%\".format(net_profit_percent)\n",
    ")\n",
    "print(\"-\" * 100)\n"
   ]
  },
  {
   "cell_type": "code",
   "execution_count": 19,
   "metadata": {},
   "outputs": [],
   "source": [
    "# import matplotlib.pyplot as plt\n",
    "\n",
    "# # Assuming the initial values of your metrics\n",
    "# random_metrics = [randomWeightedSharpRatio_1year, randomWeightedSortinoRatio_1year,]\n",
    "# mixed_metrics = [mixed_sharpe, mixed_sortino, ]\n",
    "\n",
    "# labels = ['Sharpe Ratio', 'Sortino Ratio']\n",
    "\n",
    "# x = range(len(labels))\n",
    "# # \n",
    "# plt.bar(x, random_metrics, width=0.2, label='random', color='b', align='center')\n",
    "# plt.bar(x, mixed_metrics, width=0.2, label='mixed', color='r', align='edge')\n",
    "\n",
    "# plt.xlabel('Metrics')\n",
    "# plt.ylabel('Values')\n",
    "# plt.title('Comparison')\n",
    "# plt.xticks(x, labels)\n",
    "# plt.legend()\n",
    "# plt.show()\n"
   ]
  },
  {
   "cell_type": "markdown",
   "metadata": {},
   "source": [
    "<br>\n",
    "<br>\n",
    "<br>\n",
    "<br>\n",
    "<br>\n",
    "<br>\n",
    "<br>\n",
    "<br>\n",
    "<br>\n",
    "<br>\n",
    "<br>"
   ]
  },
  {
   "cell_type": "markdown",
   "metadata": {},
   "source": [
    "# Testing our weights with 1month Test period\n",
    "### testing performance of our portfolio weights with random weights, optimized weights and new optimized weights based on new time period.\n"
   ]
  },
  {
   "cell_type": "code",
   "execution_count": 20,
   "metadata": {},
   "outputs": [
    {
     "name": "stdout",
     "output_type": "stream",
     "text": [
      "[*********************100%%**********************]  4 of 4 completed\n"
     ]
    }
   ],
   "source": [
    "test_start = datetime(2023, 11, 2, tzinfo=timezone('Asia/Tehran'))\n",
    "test_end = datetime(2023, 12, 2, tzinfo=timezone('Asia/Tehran'))\n",
    "new_df =  download_data(cryptos, test_start, test_end)"
   ]
  },
  {
   "cell_type": "code",
   "execution_count": 21,
   "metadata": {},
   "outputs": [],
   "source": [
    "randomWeights = [0.1, 0.1, 0.7, 0.1]\n",
    "\n",
    "money_at_first = 1000\n",
    "\n",
    "ret_data = new_df.pct_change()[1:]\n",
    "\n",
    "\n",
    "randomweighted_returns = (randomWeights * ret_data)\n",
    "port_ret_with_random_weights = randomweighted_returns.sum(axis=1)\n"
   ]
  },
  {
   "cell_type": "code",
   "execution_count": 22,
   "metadata": {},
   "outputs": [
    {
     "name": "stdout",
     "output_type": "stream",
     "text": [
      "Random Weight Sharpe Ratio:1.416\n",
      "Random Weight Sortino Ratio:2.27\n",
      "Random Weight Net Profit: 44.6254$ percentage:4.46%\n"
     ]
    }
   ],
   "source": [
    "expected_port_return = np.mean(port_ret_with_random_weights) \n",
    "annual_risk_free_ratio = 0.04\n",
    "daily_risk_free_ratio =  (1+annual_risk_free_ratio) ** (1/365) -1\n",
    "std_of_returns = np.std(port_ret_with_random_weights)\n",
    "initialCapital = 1000\n",
    "randomWeightedSharpRatio = np.sqrt(365) * ((expected_port_return - daily_risk_free_ratio) / std_of_returns)\n",
    "randomWeightedSortinoRatio = np.sqrt(365) * sortinoRate(port_ret_with_random_weights , 0)\n",
    "port_cumulative_returns  = np.cumprod(1+port_ret_with_random_weights)\n",
    "net_profit_over_time = initialCapital * port_cumulative_returns\n",
    "\n",
    "final_net_profit = net_profit_over_time[-1] - initialCapital\n",
    "final_net_profit_percent = final_net_profit/initialCapital * 100\n",
    "print(\"Random Weight Sharpe Ratio:{:.3f}\".format(randomWeightedSharpRatio))\n",
    "print(\"Random Weight Sortino Ratio:{:.2f}\".format(randomWeightedSortinoRatio))\n",
    "print(\"Random Weight Net Profit: {:.4f}$\".format(final_net_profit) + \" percentage:\" + \"{:.2f}%\".format(final_net_profit_percent))"
   ]
  },
  {
   "cell_type": "markdown",
   "metadata": {},
   "source": [
    "### Optimizing sharpe for the 1 month period\n"
   ]
  },
  {
   "cell_type": "code",
   "execution_count": 23,
   "metadata": {},
   "outputs": [
    {
     "name": "stdout",
     "output_type": "stream",
     "text": [
      "OUR RANDOM WEIGHTS: \n",
      "[0.1, 0.1, 0.7, 0.1]\n",
      "----------------------------------------------------------------------------------------------------\n",
      "OPTIMIZED WEIGHTS FOR SHARPE: \n",
      "[0.56606068 0.43393932 0.         0.        ]\n",
      "----------------------------------------------------------------------------------------------------\n",
      "SHARPE WITH RANDOM WEIGHTS:\n",
      "1.4161116802732623\n",
      "----------------------------------------------------------------------------------------------------\n",
      "SHARPE WITH OPTIMIZED WEIGHTS ON LAST YEAR:\n",
      "2.1576729478078396\n",
      "----------------------------------------------------------------------------------------------------\n",
      "SHARPE WITH OPTIMIZED WEIGHTS ON LAST MONTH:\n",
      "2.8792995232155922\n"
     ]
    }
   ],
   "source": [
    "op_expectedPortfolioReturnLastYear  , op_stdDevRet, port_rets , op_port_cumulative_returns = calculateRequirements(weights=op_weights_for_sharpe_1year)\n",
    "optimizedSharpeRatioLastYear = calcSharpe(op_expectedPortfolioReturnLastYear , op_stdDevRet)\n",
    "\n",
    "\n",
    "optimizedSharpe = minimize(get_reverse_sharpeRatio , initialWeightGuess , method='SLSQP' , bounds=bounds , constraints=constraints)\n",
    "op_weights_for_sharpe = optimizedSharpe.x\n",
    "print(\"OUR RANDOM WEIGHTS: \")\n",
    "print(randomWeights)\n",
    "print('-' *100)\n",
    "\n",
    "\n",
    "print(\"OPTIMIZED WEIGHTS FOR SHARPE: \")\n",
    "print(op_weights_for_sharpe)\n",
    "print('-' *100)\n",
    "\n",
    "\n",
    "op_expectedPortfolioReturn  , op_stdDevRet, port_rets , op_port_cumulative_returns = calculateRequirements(weights=op_weights_for_sharpe)\n",
    "optimizedSharpeRatio = calcSharpe(op_expectedPortfolioReturn , op_stdDevRet)\n",
    "\n",
    "\n",
    "print(\"SHARPE WITH RANDOM WEIGHTS:\")\n",
    "print(randomWeightedSharpRatio)\n",
    "print('-' *100)\n",
    "print(\"SHARPE WITH OPTIMIZED WEIGHTS ON LAST YEAR:\")\n",
    "print(optimizedSharpeRatioLastYear)\n",
    "print('-'*100)\n",
    "print(\"SHARPE WITH OPTIMIZED WEIGHTS ON LAST MONTH:\")\n",
    "print(optimizedSharpeRatio)"
   ]
  },
  {
   "cell_type": "markdown",
   "metadata": {},
   "source": [
    "### Optimizing sortino for the 1 month period\n"
   ]
  },
  {
   "cell_type": "code",
   "execution_count": 24,
   "metadata": {},
   "outputs": [
    {
     "name": "stdout",
     "output_type": "stream",
     "text": [
      "OUR RANDOM WEIGHTS: \n",
      "[0.1, 0.1, 0.7, 0.1]\n",
      "----------------------------------------------------------------------------------------------------\n",
      "OPTIMIZED WEIGHTS FOR SORTINO: \n",
      "[6.9388939e-18 1.0000000e+00 0.0000000e+00 0.0000000e+00]\n",
      "----------------------------------------------------------------------------------------------------\n",
      "SORTINO WITH RANDOM WEIGHTS:\n",
      "2.268459869350542\n",
      "----------------------------------------------------------------------------------------------------\n",
      "SORTINO WITH OPTIMIZED WEIGHTS ON LAST YEAR:\n",
      "3.910736693624722\n",
      "----------------------------------------------------------------------------------------------------\n",
      "SORTINO WITH OPTIMIZED WEIGHTS ON LAST MONTH:\n",
      "5.61883872569776\n"
     ]
    }
   ],
   "source": [
    "op_expectedPortfolioReturn , op_stdDevRet, port_rets , op_port_cumulative_returns = calculateRequirements(weights=op_weights_for_sortino_1year)\n",
    "optimizedSortinoRatioLastYear = calcSortino(portRets=port_rets)\n",
    "\n",
    "optimizedSortino = minimize(get_reverse_sortinoRatio , initialWeightGuess , method='SLSQP' , bounds=bounds , constraints=constraints)\n",
    "\n",
    "op_weights_for_sortino = optimizedSortino.x\n",
    "\n",
    "print(\"OUR RANDOM WEIGHTS: \")\n",
    "print(randomWeights)\n",
    "print('-' *100)\n",
    "\n",
    "\n",
    "print(\"OPTIMIZED WEIGHTS FOR SORTINO: \")\n",
    "print(op_weights_for_sortino)\n",
    "print('-' *100)\n",
    "\n",
    "\n",
    "op_expectedPortfolioReturn  , op_stdDevRet, port_rets , op_port_cumulative_returns = calculateRequirements(weights=op_weights_for_sortino)\n",
    "optimizedSortinoRatio = calcSortino(portRets=port_rets)\n",
    "\n",
    "\n",
    "print(\"SORTINO WITH RANDOM WEIGHTS:\")\n",
    "print(randomWeightedSortinoRatio)\n",
    "print('-' *100)\n",
    "print(\"SORTINO WITH OPTIMIZED WEIGHTS ON LAST YEAR:\")\n",
    "print(optimizedSortinoRatioLastYear)\n",
    "print('-' *100)\n",
    "print(\"SORTINO WITH OPTIMIZED WEIGHTS ON LAST MONTH:\")\n",
    "print(optimizedSortinoRatio)"
   ]
  },
  {
   "cell_type": "markdown",
   "metadata": {},
   "source": [
    "### Optimizing net profit for the 1 month period\n"
   ]
  },
  {
   "cell_type": "code",
   "execution_count": 25,
   "metadata": {},
   "outputs": [
    {
     "name": "stdout",
     "output_type": "stream",
     "text": [
      "OUR RANDOM WEIGHTS: \n",
      "[0.1, 0.1, 0.7, 0.1]\n",
      "----------------------------------------------------------------------------------------------------\n",
      "OPTIMIZED WEIGHTS FOR NET PROFIT: \n",
      "[1.11022302e-16 1.00000000e+00 2.77555756e-17 4.16333634e-17]\n",
      "----------------------------------------------------------------------------------------------------\n",
      "NET Profit WITH RANDOM WEIGHTS:\n",
      "44.63$ percentage: 4.46%\n",
      "----------------------------------------------------------------------------------------------------\n",
      "NET PROFIT WITH OPTIMIZED WEIGHTS ON LAST YEAR:\n",
      "66.08$ percentage: 6.61%\n",
      "----------------------------------------------------------------------------------------------------\n",
      "NET PROFIT WITH OPTIMIZED WEIGHTS ON LAST MONTH:\n",
      "129.96$ percentage: 13.00%\n"
     ]
    }
   ],
   "source": [
    "(\n",
    "    op_expectedPortfolioReturn,\n",
    "    op_stdDevRet,\n",
    "    port_rets,\n",
    "    op_port_cumulative_returns,\n",
    ") = calculateRequirements(weights=op_weights_for_net_profit_1year)\n",
    "optimizedNetProfitValLastYear = calcNetProfit(\n",
    "    op_port_cumulative_returns=op_port_cumulative_returns\n",
    ")\n",
    "optimizedNetProfitPercentLastYear = optimizedNetProfitValLastYear / initialCapital * 100\n",
    "\n",
    "\n",
    "optimizedNetProfit = minimize(\n",
    "    get_reverse_net_profit,\n",
    "    initialWeightGuess,\n",
    "    method=\"SLSQP\",\n",
    "    bounds=bounds,\n",
    "    constraints=constraints,\n",
    ")\n",
    "\n",
    "op_weights_for_net_profit = optimizedNetProfit.x\n",
    "print(\"OUR RANDOM WEIGHTS: \")\n",
    "print(randomWeights)\n",
    "print(\"-\" * 100)\n",
    "\n",
    "\n",
    "print(\"OPTIMIZED WEIGHTS FOR NET PROFIT: \")\n",
    "print(op_weights_for_net_profit)\n",
    "print(\"-\" * 100)\n",
    "\n",
    "\n",
    "(\n",
    "    op_expectedPortfolioReturn,\n",
    "    op_stdDevRet,\n",
    "    port_rets,\n",
    "    op_port_cumulative_returns,\n",
    ") = calculateRequirements(weights=op_weights_for_net_profit)\n",
    "optimizedNetProfitVal = calcNetProfit(\n",
    "    op_port_cumulative_returns=op_port_cumulative_returns\n",
    ")\n",
    "optimizedNetProfitPercent = optimizedNetProfitVal / initialCapital * 100\n",
    "\n",
    "print(\"NET Profit WITH RANDOM WEIGHTS:\")\n",
    "print(\"{:.2f}\".format(final_net_profit) + '$' + \" percentage: \" + \"{:.2f}%\".format(final_net_profit_percent))\n",
    "print(\"-\" * 100)\n",
    "\n",
    "print(\"NET PROFIT WITH OPTIMIZED WEIGHTS ON LAST YEAR:\")\n",
    "print(\n",
    "    \"{:.2f}\".format(optimizedNetProfitValLastYear) + '$'+\n",
    "     ' percentage: '\n",
    "    + \"{:.2f}%\".format(optimizedNetProfitPercentLastYear)\n",
    ")\n",
    "print(\"-\" * 100)\n",
    "print(\"NET PROFIT WITH OPTIMIZED WEIGHTS ON LAST MONTH:\")\n",
    "print(\n",
    "    \"{:.2f}\".format(optimizedNetProfitVal) + '$'+\n",
    "     ' percentage: '\n",
    "    + \"{:.2f}%\".format(optimizedNetProfitPercent)\n",
    ")"
   ]
  },
  {
   "cell_type": "markdown",
   "metadata": {},
   "source": [
    "### Optimizing metrics for the 1 month period based on mixing optimized weights.\n"
   ]
  },
  {
   "cell_type": "code",
   "execution_count": 26,
   "metadata": {},
   "outputs": [
    {
     "data": {
      "image/png": "[encoded data removed]",
      "text/plain": [
       "<Figure size 1800x600 with 1 Axes>"
      ]
     },
     "metadata": {},
     "output_type": "display_data"
    }
   ],
   "source": [
    "\n",
    "labels = [ 'randomWeightedSharpRatio_1year','optimizedSharpeRatio_1year', 'randomWeightedSharpRatio','optimizedSharpeRatioLastYear', 'optimizedSharpeRatio']\n",
    "values = [ randomWeightedSharpRatio_1year, optimizedSharpeRatio_1year,randomWeightedSharpRatio, optimizedSharpeRatioLastYear ,optimizedSharpeRatio]\n",
    "\n",
    "# Plotting the bar chart\n",
    "plt.figure(figsize=(18, 6))\n",
    "plt.bar(labels, values, width=0.1)\n",
    "plt.xlabel('Metrics')\n",
    "plt.ylabel('Sharpe ratio')\n",
    "plt.show()"
   ]
  },
  {
   "cell_type": "code",
   "execution_count": 27,
   "metadata": {},
   "outputs": [
    {
     "data": {
      "image/png": "[encoded data removed]",
      "text/plain": [
       "<Figure size 1800x600 with 1 Axes>"
      ]
     },
     "metadata": {},
     "output_type": "display_data"
    }
   ],
   "source": [
    "\n",
    "labels = [ 'randomWeightedSortinoRatio_1year','optimizedSortinoRatio_1year ','randomWeightedSortinoRatio','optimizedSortinoRatioLastYear', 'optimizedSortinoRatio']\n",
    "values = [ randomWeightedSortinoRatio_1year,   optimizedSortinoRatio_1year ,randomWeightedSortinoRatio, optimizedSortinoRatioLastYear ,optimizedSortinoRatio]\n",
    "\n",
    "# Plotting the bar chart\n",
    "plt.figure(figsize=(18, 6))\n",
    "plt.bar(labels, values, width=0.1)\n",
    "plt.xlabel('Metrics')\n",
    "plt.ylabel('Sortino ratio')\n",
    "plt.show()"
   ]
  },
  {
   "cell_type": "code",
   "execution_count": 28,
   "metadata": {},
   "outputs": [
    {
     "data": {
      "image/png": "[encoded data removed]",
      "text/plain": [
       "<Figure size 1800x600 with 1 Axes>"
      ]
     },
     "metadata": {},
     "output_type": "display_data"
    }
   ],
   "source": [
    "labels = [ 'randomWeightedNP_1year','optimizedNPVal_1year ','randomWeightedNP','optimizedNetProfitValLastYear', 'optimizedNetProfitVal']\n",
    "values = [ final_net_profit_year1,   optimizedNetProfitVal_1year ,final_net_profit, optimizedNetProfitValLastYear ,optimizedNetProfitVal]\n",
    "\n",
    "# Plotting the bar chart\n",
    "plt.figure(figsize=(18, 6))\n",
    "plt.bar(labels, values, width=0.1)\n",
    "plt.xlabel('Metrics')\n",
    "plt.ylabel('Net profit')\n",
    "plt.show()"
   ]
  },
  {
   "cell_type": "code",
   "execution_count": 30,
   "metadata": {},
   "outputs": [
    {
     "name": "stdout",
     "output_type": "stream",
     "text": [
      "OPTIMIZED WEIGHTS FOR MIX OF 3 METRICS: \n",
      "[0.18868689345625897, 0.8113131065437411, 9.25185853854297e-18, 1.3877787807814457e-17]\n",
      "----------------------------------------------------------------------------------------------------\n",
      "SHARPE RATIO:\n",
      " 1.4161116802732623  ----> 2.7850742699679474\n",
      "----------------------------------------------------------------------------------------------------\n",
      "SORTINO RATIO:\n",
      " 2.268459869350542  ---->  5.5569561014381055\n",
      "----------------------------------------------------------------------------------------------------\n",
      "NET PROFIT:\n",
      "44.62536837253742  ---->  123.73$ percentage: 12.37%\n",
      "----------------------------------------------------------------------------------------------------\n"
     ]
    }
   ],
   "source": [
    "mixed_weights = mix_weights(op_weights_for_sharpe, op_weights_for_sortino, op_weights_for_net_profit)\n",
    "\n",
    "mixed_return  , op_stdDevRet, port_rets , op_port_cumulative_returns = calculateRequirements(weights=mixed_weights)\n",
    "mixed_sharpe = calcSharpe(mixed_return , op_stdDevRet)\n",
    "mixed_sortino = calcSortino(portRets=port_rets)\n",
    "mixed_net_profit_val= calcNetProfit(\n",
    "    op_port_cumulative_returns=op_port_cumulative_returns\n",
    ")\n",
    "net_profit_percent = mixed_net_profit_val / initialCapital * 100\n",
    "\n",
    "\n",
    "print(\"OPTIMIZED WEIGHTS FOR MIX OF 3 METRICS: \")\n",
    "print(mixed_weights)\n",
    "print('-' * 100)\n",
    "print('SHARPE RATIO:\\n', randomWeightedSharpRatio, ' ---->', mixed_sharpe)\n",
    "print('-' * 100)\n",
    "print('SORTINO RATIO:\\n', randomWeightedSortinoRatio, ' ----> ', mixed_sortino)\n",
    "print('-' * 100)\n",
    "print('NET PROFIT:')\n",
    "print(final_net_profit, ' ----> ',\n",
    "    \"{:.2f}\".format(mixed_net_profit_val) + '$'+\n",
    "     ' percentage: '\n",
    "    + \"{:.2f}%\".format(net_profit_percent)\n",
    ")\n",
    "print(\"-\" * 100)\n"
   ]
  },
  {
   "cell_type": "code",
   "execution_count": null,
   "metadata": {},
   "outputs": [],
   "source": [
    "# print('Net Profit:\\n')\n",
    "# print('Random       Last-year       OPTIMIZED')\n",
    "# print(f'{round(final_net_profit,2)}       {round(optimizedNetProfitValLastYear)}            {round(optimizedNetProfitVal,2)}')\n",
    "\n",
    "\n",
    "# metrics = [randomWeightedSharpRatio, randomWeightedSharpRatio_1year,optimizedSharpeRatioLastYear, optimizedSharpeRatio]\n",
    "# # last_year_metrics = [optimizedSharpeRatioLastYear,optimizedSortinoRatioLastYear,]\n",
    "# # mixed_metrics = [optimizedSharpeRatio, optimizedSortinoRatio, ]\n",
    "\n",
    "# labels = ['Sharpe Ratio']\n",
    "\n",
    "# x = range(len(labels))\n",
    "\n",
    "# plt.bar(x, optimizedSharpeRatioLastYear, width=0.2, label='mixed', color='r', align='center')\n",
    "# # plt.bar(x, metrics, width=0.2, label='random', color='b', align='center')\n",
    "# plt.bar(x, randomWeightedSharpRatio_1year, width=0.2, label='last year', color='g', align='edge')\n",
    "\n",
    "# plt.xlabel('Metrics')\n",
    "# plt.ylabel('Values')\n",
    "# plt.title('Comparison')\n",
    "# plt.xticks(x, labels)\n",
    "# plt.legend()\n",
    "# plt.show()\n"
   ]
  },
  {
   "cell_type": "markdown",
   "metadata": {},
   "source": [
    "<br>\n",
    "<br>\n",
    "<br>\n",
    "<br>\n",
    "<br>\n",
    "<br>\n",
    "<br>\n",
    "<br>\n",
    "<br>\n",
    "<br>\n",
    "<br>\n",
    "<br>\n",
    "<br>\n",
    "<br>\n",
    "<br>\n",
    "<br>\n",
    "<br>\n",
    "<br>\n",
    "<br>\n",
    "<br>\n",
    "<br>\n",
    "<br>\n",
    "<br>\n",
    "<br>\n",
    "<br>\n",
    "<br>\n",
    "<br>\n",
    "<br>\n",
    "<br>\n",
    "<br>\n",
    "<br>\n",
    "<br>\n",
    "<br>\n",
    "<br>\n",
    "<br>\n",
    "<br>\n",
    "<br>\n",
    "<br>\n",
    "<br>\n",
    "<br>\n",
    "<br>\n",
    "<br>\n",
    "<br>\n",
    "<br>\n",
    "<br>\n",
    "<br>"
   ]
  },
  {
   "cell_type": "markdown",
   "metadata": {},
   "source": [
    "# Using a mix optimized weights of last year\n",
    " \n"
   ]
  },
  {
   "cell_type": "code",
   "execution_count": 31,
   "metadata": {},
   "outputs": [
    {
     "name": "stdout",
     "output_type": "stream",
     "text": [
      "[*********************100%%**********************]  4 of 4 completed\n"
     ]
    }
   ],
   "source": [
    "test_start = datetime(2023, 11, 2, tzinfo=timezone('Asia/Tehran'))\n",
    "test_end = datetime(2023, 12, 2, tzinfo=timezone('Asia/Tehran'))\n",
    "new_df =  download_data(cryptos, test_start, test_end)"
   ]
  },
  {
   "cell_type": "code",
   "execution_count": 32,
   "metadata": {},
   "outputs": [],
   "source": [
    "randomWeights = [0.2, 0.5, 0.2, 0.1]\n",
    "\n",
    "money_at_first = 1000\n",
    "\n",
    "ret_data = new_df.pct_change()[1:]\n",
    "\n",
    "# print(ret_data)\n",
    "\n",
    "randomweighted_returns = (randomWeights * ret_data)\n",
    "# print(randomweighted_returns)\n",
    "port_ret_with_random_weights = randomweighted_returns.sum(axis=1)\n",
    "\n",
    "# fig = plt.figure()\n",
    "# ax1 = fig.add_axes([0.1,0.1,0.8,0.8])\n",
    "# ax1.hist(port_ret, bins = 60)\n",
    "# ax1.set_xlabel('Portfolio returns')\n",
    "# ax1.set_ylabel(\"Freq\")\n",
    "# ax1.set_title(\"Portfolio Returns calculated manually\")\n",
    "# plt.show(); \n",
    "# print(port_ret_with_random_weights)"
   ]
  },
  {
   "cell_type": "code",
   "execution_count": 33,
   "metadata": {},
   "outputs": [
    {
     "name": "stdout",
     "output_type": "stream",
     "text": [
      "Random Weight Sharpe Ratio:2.665\n",
      "Random Weight Sortino Ratio:4.77\n",
      "Random Weight Net Profit: 91.8759$ percentage:9.19%\n"
     ]
    }
   ],
   "source": [
    "expected_port_return = np.mean(port_ret_with_random_weights) \n",
    "annual_risk_free_ratio = 0.04\n",
    "daily_risk_free_ratio =  (1+annual_risk_free_ratio) ** (1/365) -1\n",
    "std_of_returns = np.std(port_ret_with_random_weights)\n",
    "initialCapital = 1000\n",
    "randomWeightedSharpRatio = np.sqrt(365) * ((expected_port_return - daily_risk_free_ratio) / std_of_returns)\n",
    "randomWeightedSortinoRatio = np.sqrt(365) * sortinoRate(port_ret_with_random_weights , 0)\n",
    "port_cumulative_returns  = np.cumprod(1+port_ret_with_random_weights)\n",
    "net_profit_over_time = initialCapital * port_cumulative_returns\n",
    "\n",
    "final_net_profit = net_profit_over_time[-1] - initialCapital\n",
    "final_net_profit_percent = final_net_profit/initialCapital * 100\n",
    "print(\"Random Weight Sharpe Ratio:{:.3f}\".format(randomWeightedSharpRatio))\n",
    "print(\"Random Weight Sortino Ratio:{:.2f}\".format(randomWeightedSortinoRatio))\n",
    "print(\"Random Weight Net Profit: {:.4f}$\".format(final_net_profit) + \" percentage:\" + \"{:.2f}%\".format(final_net_profit_percent))"
   ]
  },
  {
   "cell_type": "markdown",
   "metadata": {},
   "source": [
    "### Optimizing sharpe for the 1 month period\n"
   ]
  },
  {
   "cell_type": "code",
   "execution_count": 34,
   "metadata": {},
   "outputs": [
    {
     "name": "stdout",
     "output_type": "stream",
     "text": [
      "OUR RANDOM WEIGHTS: \n",
      "[0.2, 0.5, 0.2, 0.1]\n",
      "----------------------------------------------------------------------------------------------------\n",
      "OPTIMIZED WEIGHTS FOR SHARPE: \n",
      "[0.56606068 0.43393932 0.         0.        ]\n",
      "----------------------------------------------------------------------------------------------------\n",
      "SHARPE WITH RANDOM WEIGHTS:\n",
      "2.6650955099560085\n",
      "----------------------------------------------------------------------------------------------------\n",
      "SHARPE WITH OPTIMIZED WEIGHTS ON LAST YEAR:\n",
      "2.1725883440754092\n",
      "----------------------------------------------------------------------------------------------------\n",
      "SHARPE WITH OPTIMIZED WEIGHTS ON LAST MONTH:\n",
      "2.8792995232155922\n"
     ]
    }
   ],
   "source": [
    "op_expectedPortfolioReturnLastYear  , op_stdDevRet, port_rets , op_port_cumulative_returns = calculateRequirements(weights=mixed_weights_last_year)\n",
    "optimizedSharpeRatioLastYear = calcSharpe(op_expectedPortfolioReturnLastYear , op_stdDevRet)\n",
    "\n",
    "\n",
    "optimizedSharpe = minimize(get_reverse_sharpeRatio , initialWeightGuess , method='SLSQP' , bounds=bounds , constraints=constraints)\n",
    "op_weights_for_sharpe = optimizedSharpe.x\n",
    "print(\"OUR RANDOM WEIGHTS: \")\n",
    "print(randomWeights)\n",
    "print('-' *100)\n",
    "\n",
    "\n",
    "print(\"OPTIMIZED WEIGHTS FOR SHARPE: \")\n",
    "print(op_weights_for_sharpe)\n",
    "print('-' *100)\n",
    "\n",
    "\n",
    "op_expectedPortfolioReturn  , op_stdDevRet, port_rets , op_port_cumulative_returns = calculateRequirements(weights=op_weights_for_sharpe)\n",
    "optimizedSharpeRatio = calcSharpe(op_expectedPortfolioReturn , op_stdDevRet)\n",
    "\n",
    "\n",
    "print(\"SHARPE WITH RANDOM WEIGHTS:\")\n",
    "print(randomWeightedSharpRatio)\n",
    "print('-' *100)\n",
    "print(\"SHARPE WITH OPTIMIZED WEIGHTS ON LAST YEAR:\")\n",
    "print(optimizedSharpeRatioLastYear)\n",
    "print('-'*100)\n",
    "print(\"SHARPE WITH OPTIMIZED WEIGHTS ON LAST MONTH:\")\n",
    "print(optimizedSharpeRatio)"
   ]
  },
  {
   "cell_type": "markdown",
   "metadata": {},
   "source": [
    "### Optimizing sortino for the 1 month period\n"
   ]
  },
  {
   "cell_type": "code",
   "execution_count": 35,
   "metadata": {},
   "outputs": [
    {
     "name": "stdout",
     "output_type": "stream",
     "text": [
      "OUR RANDOM WEIGHTS: \n",
      "[0.2, 0.5, 0.2, 0.1]\n",
      "----------------------------------------------------------------------------------------------------\n",
      "OPTIMIZED WEIGHTS FOR SORTINO: \n",
      "[6.9388939e-18 1.0000000e+00 0.0000000e+00 0.0000000e+00]\n",
      "----------------------------------------------------------------------------------------------------\n",
      "SORTINO WITH RANDOM WEIGHTS:\n",
      "4.770909665486144\n",
      "----------------------------------------------------------------------------------------------------\n",
      "SORTINO WITH OPTIMIZED WEIGHTS ON LAST YEAR:\n",
      "3.532684161893818\n",
      "----------------------------------------------------------------------------------------------------\n",
      "SORTINO WITH OPTIMIZED WEIGHTS ON LAST MONTH:\n",
      "5.61883872569776\n"
     ]
    }
   ],
   "source": [
    "op_expectedPortfolioReturn , op_stdDevRet, port_rets , op_port_cumulative_returns = calculateRequirements(weights=mixed_weights_last_year)\n",
    "optimizedSortinoRatioLastYear = calcSortino(portRets=port_rets)\n",
    "\n",
    "optimizedSortino = minimize(get_reverse_sortinoRatio , initialWeightGuess , method='SLSQP' , bounds=bounds , constraints=constraints)\n",
    "\n",
    "op_weights_for_sortino = optimizedSortino.x\n",
    "\n",
    "print(\"OUR RANDOM WEIGHTS: \")\n",
    "print(randomWeights)\n",
    "print('-' *100)\n",
    "\n",
    "\n",
    "print(\"OPTIMIZED WEIGHTS FOR SORTINO: \")\n",
    "print(op_weights_for_sortino)\n",
    "print('-' *100)\n",
    "\n",
    "\n",
    "op_expectedPortfolioReturn  , op_stdDevRet, port_rets , op_port_cumulative_returns = calculateRequirements(weights=op_weights_for_sortino)\n",
    "optimizedSortinoRatio = calcSortino(portRets=port_rets)\n",
    "\n",
    "\n",
    "print(\"SORTINO WITH RANDOM WEIGHTS:\")\n",
    "print(randomWeightedSortinoRatio)\n",
    "print('-' *100)\n",
    "print(\"SORTINO WITH OPTIMIZED WEIGHTS ON LAST YEAR:\")\n",
    "print(optimizedSortinoRatioLastYear)\n",
    "print('-' *100)\n",
    "print(\"SORTINO WITH OPTIMIZED WEIGHTS ON LAST MONTH:\")\n",
    "print(optimizedSortinoRatio)"
   ]
  },
  {
   "cell_type": "markdown",
   "metadata": {},
   "source": [
    "### Optimizing net profit for the 1 month period\n"
   ]
  },
  {
   "cell_type": "code",
   "execution_count": 36,
   "metadata": {},
   "outputs": [
    {
     "name": "stdout",
     "output_type": "stream",
     "text": [
      "OUR RANDOM WEIGHTS: \n",
      "[0.2, 0.5, 0.2, 0.1]\n",
      "----------------------------------------------------------------------------------------------------\n",
      "OPTIMIZED WEIGHTS FOR NET PROFIT: \n",
      "[1.11022302e-16 1.00000000e+00 2.77555756e-17 4.16333634e-17]\n",
      "----------------------------------------------------------------------------------------------------\n",
      "NET Profit WITH RANDOM WEIGHTS:\n",
      "91.88$ percentage: 9.19%\n",
      "----------------------------------------------------------------------------------------------------\n",
      "NET PROFIT WITH OPTIMIZED WEIGHTS ON LAST YEAR:\n",
      "66.42$ percentage: 6.64%\n",
      "----------------------------------------------------------------------------------------------------\n",
      "NET PROFIT WITH OPTIMIZED WEIGHTS ON LAST MONTH:\n",
      "129.96$ percentage: 13.00%\n"
     ]
    }
   ],
   "source": [
    "(\n",
    "    op_expectedPortfolioReturn,\n",
    "    op_stdDevRet,\n",
    "    port_rets,\n",
    "    op_port_cumulative_returns,\n",
    ") = calculateRequirements(weights=mixed_weights_last_year)\n",
    "optimizedNetProfitValLastYear = calcNetProfit(\n",
    "    op_port_cumulative_returns=op_port_cumulative_returns\n",
    ")\n",
    "optimizedNetProfitPercentLastYear = optimizedNetProfitValLastYear / initialCapital * 100\n",
    "\n",
    "\n",
    "optimizedNetProfit = minimize(\n",
    "    get_reverse_net_profit,\n",
    "    initialWeightGuess,\n",
    "    method=\"SLSQP\",\n",
    "    bounds=bounds,\n",
    "    constraints=constraints,\n",
    ")\n",
    "\n",
    "op_weights_for_net_profit = optimizedNetProfit.x\n",
    "print(\"OUR RANDOM WEIGHTS: \")\n",
    "print(randomWeights)\n",
    "print(\"-\" * 100)\n",
    "\n",
    "\n",
    "print(\"OPTIMIZED WEIGHTS FOR NET PROFIT: \")\n",
    "print(op_weights_for_net_profit)\n",
    "print(\"-\" * 100)\n",
    "\n",
    "\n",
    "(\n",
    "    op_expectedPortfolioReturn,\n",
    "    op_stdDevRet,\n",
    "    port_rets,\n",
    "    op_port_cumulative_returns,\n",
    ") = calculateRequirements(weights=op_weights_for_net_profit)\n",
    "optimizedNetProfitVal = calcNetProfit(\n",
    "    op_port_cumulative_returns=op_port_cumulative_returns\n",
    ")\n",
    "optimizedNetProfitPercent = optimizedNetProfitVal / initialCapital * 100\n",
    "\n",
    "print(\"NET Profit WITH RANDOM WEIGHTS:\")\n",
    "print(\"{:.2f}\".format(final_net_profit) + '$' + \" percentage: \" + \"{:.2f}%\".format(final_net_profit_percent))\n",
    "print(\"-\" * 100)\n",
    "\n",
    "print(\"NET PROFIT WITH OPTIMIZED WEIGHTS ON LAST YEAR:\")\n",
    "print(\n",
    "    \"{:.2f}\".format(optimizedNetProfitValLastYear) + '$'+\n",
    "     ' percentage: '\n",
    "    + \"{:.2f}%\".format(optimizedNetProfitPercentLastYear)\n",
    ")\n",
    "print(\"-\" * 100)\n",
    "print(\"NET PROFIT WITH OPTIMIZED WEIGHTS ON LAST MONTH:\")\n",
    "print(\n",
    "    \"{:.2f}\".format(optimizedNetProfitVal) + '$'+\n",
    "     ' percentage: '\n",
    "    + \"{:.2f}%\".format(optimizedNetProfitPercent)\n",
    ")"
   ]
  },
  {
   "cell_type": "markdown",
   "metadata": {},
   "source": [
    "### Optimizing metrics for the 1 month period based on mixing optimized weights.\n"
   ]
  },
  {
   "cell_type": "code",
   "execution_count": null,
   "metadata": {},
   "outputs": [],
   "source": [
    "# mixed_weights = mix_weights(op_weights_for_sharpe, op_weights_for_sortino, op_weights_for_net_profit)\n",
    "\n",
    "# mixed_return  , op_stdDevRet, port_rets , op_port_cumulative_returns = calculateRequirements(weights=mixed_weights)\n",
    "# mixed_sharpe = calcSharpe(mixed_return , op_stdDevRet)\n",
    "# mixed_sortino = calcSortino(portRets=port_rets)\n",
    "# mixed_net_profit_val= calcNetProfit(\n",
    "#     op_port_cumulative_returns=op_port_cumulative_returns\n",
    "# )\n",
    "# net_profit_percent = mixed_net_profit_val / initialCapital * 100\n",
    "\n",
    "\n",
    "# print(\"OPTIMIZED WEIGHTS FOR MIX OF 3 METRICS: \")\n",
    "# print(mixed_weights)\n",
    "# print('-' * 100)\n",
    "# print('SHARPE RATIO:\\n', randomWeightedSharpRatio, ' ---->', mixed_sharpe)\n",
    "# print('-' * 100)\n",
    "# print('SORTINO RATIO:\\n', randomWeightedSortinoRatio, ' ----> ', mixed_sortino)\n",
    "# print('-' * 100)\n",
    "# print('NET PROFIT:')\n",
    "# print(final_net_profit, ' ----> ',\n",
    "#     \"{:.2f}\".format(mixed_net_profit_val) + '$'+\n",
    "#      ' percentage: '\n",
    "#     + \"{:.2f}%\".format(net_profit_percent)\n",
    "# )\n",
    "# print(\"-\" * 100)\n"
   ]
  },
  {
   "cell_type": "code",
   "execution_count": 37,
   "metadata": {},
   "outputs": [
    {
     "name": "stdout",
     "output_type": "stream",
     "text": [
      "Net Profit:\n",
      "\n",
      "Random       Lastyear       OPTIMIZED\n",
      "91.88       66            129.96\n"
     ]
    },
    {
     "data": {
      "image/png": "[encoded data removed]",
      "text/plain": [
       "<Figure size 640x480 with 1 Axes>"
      ]
     },
     "metadata": {},
     "output_type": "display_data"
    }
   ],
   "source": [
    "print('Net Profit:\\n')\n",
    "print('Random       Lastyear       OPTIMIZED')\n",
    "print(f'{round(final_net_profit,2)}       {round(optimizedNetProfitValLastYear)}            {round(optimizedNetProfitVal,2)}')\n",
    "random_metrics = [randomWeightedSharpRatio, randomWeightedSortinoRatio,]\n",
    "last_year_metrics = [optimizedSharpeRatioLastYear, optimizedSortinoRatioLastYear,]\n",
    "mixed_metrics = [optimizedSharpeRatio, optimizedSortinoRatio, ]\n",
    "\n",
    "labels = ['Sharpe Ratio', 'Sortino Ratio']\n",
    "\n",
    "x = range(len(labels))\n",
    "\n",
    "plt.bar(x, mixed_metrics, width=0.2, label='mixed', color='r', align='center')\n",
    "plt.bar(x, random_metrics, width=0.2, label='random', color='b', align='center')\n",
    "plt.bar(x, last_year_metrics, width=0.2, label='last year', color='g', align='edge')\n",
    "\n",
    "plt.xlabel('Metrics')\n",
    "plt.ylabel('Values')\n",
    "plt.title('Comparison')\n",
    "plt.xticks(x, labels)\n",
    "plt.legend()\n",
    "plt.show()\n"
   ]
  },
  {
   "cell_type": "code",
   "execution_count": null,
   "metadata": {},
   "outputs": [],
   "source": []
  }
 ],
 "metadata": {
  "kernelspec": {
   "display_name": "Python 3",
   "language": "python",
   "name": "python3"
  },
  "language_info": {
   "codemirror_mode": {
    "name": "ipython",
    "version": 3
   },
   "file_extension": ".py",
   "mimetype": "text/x-python",
   "name": "python",
   "nbconvert_exporter": "python",
   "pygments_lexer": "ipython3",
   "version": "3.11.6"
  }
 },
 "nbformat": 4,
 "nbformat_minor": 2
}
