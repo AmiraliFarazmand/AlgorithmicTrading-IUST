{
 "cells": [
  {
   "cell_type": "markdown",
   "id": "17ec9d80",
   "metadata": {},
   "source": [
    "# Content\n",
    "1. ['Optimizing Portfolio Sharp'](#1)\n",
    "- Given a list of tickers = ['AAPL', 'MSFT', 'AMZN', 'GOOGL', 'META', 'TSLA', 'BRK-A', 'V', 'JNJ', 'WMT']\n",
    "\n",
    "- Highest sharpe ratio of 1.07 is attained with high weight in MSFT (40%).  The performance of MSFT dominates the portfolio. TSLA, JNJ and WMT have weights of 12%, the rest are less than 10%. "
   ]
  },
  {
   "cell_type": "code",
   "execution_count": null,
   "id": "e662e1ae",
   "metadata": {},
   "outputs": [],
   "source": [
    "import numpy as np\n",
    "import pandas as pd\n",
    "import matplotlib.pyplot as plt\n",
    "\n",
    "import yfinance as yf\n",
    "from pandas_datareader import data as pdr\n",
    "yf.pdr_override()\n",
    "\n",
    "import warnings\n",
    "warnings.filterwarnings('ignore')"
   ]
  },
  {
   "cell_type": "markdown",
   "id": "7ef78b71",
   "metadata": {},
   "source": [
    "# 1. Optimizing Portfolio Sharpe\n",
    "<a id='1'></a>\n",
    "\n",
    "- Given a list of tickers = ['AAPL', 'MSFT', 'AMZN', 'GOOGL', 'META', 'TSLA', 'BRK-A', 'V', 'JNJ', 'WMT']\n",
    "\n",
    "- Highest sharpe ratio of 1.07 is attained with high weight in MSFT (40%).  The performance of MSFT dominates the portfolio. TSLA, JNJ and WMT have weights of 12%, the rest are less than 10%. \n"
   ]
  },
  {
   "cell_type": "code",
   "execution_count": null,
   "id": "28af16ec",
   "metadata": {},
   "outputs": [],
   "source": [
    "tickers = ['AAPL', 'MSFT', 'AMZN', 'GOOGL', 'META', 'TSLA', 'BRK-A', 'V', 'JNJ', 'WMT']\n",
    "\n",
    "for ticker in tickers:\n",
    "    df = pdr.get_data_yahoo(ticker, start='2013-01-01', end='2023-11-18')\n",
    "    df = df[['Adj Close']]\n",
    "    df = df.rename(columns={'Adj Close': ticker})\n",
    "    \n",
    "    if ticker == tickers[0]:\n",
    "        dfmerge = df\n",
    "    else:\n",
    "        dfmerge = dfmerge.join(df, how='outer')"
   ]
  },
  {
   "cell_type": "code",
   "execution_count": null,
   "id": "372f0467",
   "metadata": {},
   "outputs": [],
   "source": [
    "dfmerge.head()"
   ]
  },
  {
   "cell_type": "code",
   "execution_count": null,
   "id": "16c411b5",
   "metadata": {},
   "outputs": [],
   "source": [
    "dfret = dfmerge.pct_change().apply(lambda x: np.log(1+x)).dropna()"
   ]
  },
  {
   "cell_type": "code",
   "execution_count": null,
   "id": "a1a199c0",
   "metadata": {
    "scrolled": false
   },
   "outputs": [],
   "source": [
    "fig, ax1 = plt.subplots(ncols=2, nrows=5, figsize=(15, 20))  # Set the figure size here\n",
    "ax = ax1.flatten()\n",
    "\n",
    "for col, ax in zip(dfret.columns, ax):\n",
    "    ax.plot(dfret[col])\n",
    "    ax.set_title(col)"
   ]
  },
  {
   "cell_type": "code",
   "execution_count": null,
   "id": "2d4c5f92",
   "metadata": {},
   "outputs": [],
   "source": [
    "import seaborn as sns\n",
    "sns.heatmap(dfret.corr())"
   ]
  },
  {
   "cell_type": "code",
   "execution_count": null,
   "id": "ae6dbcda",
   "metadata": {},
   "outputs": [],
   "source": [
    "dfcumuret = dfret.cumsum().apply(np.exp)\n",
    "dfcumuret.head()"
   ]
  },
  {
   "cell_type": "code",
   "execution_count": null,
   "id": "976d6baa",
   "metadata": {},
   "outputs": [],
   "source": [
    "dfcumuret.plot()"
   ]
  },
  {
   "cell_type": "code",
   "execution_count": null,
   "id": "6f05c337",
   "metadata": {},
   "outputs": [],
   "source": [
    "tickers_exTSLA = ['AAPL', 'MSFT', 'AMZN', 'GOOGL', 'META', 'BRK-A', 'V', 'JNJ', 'WMT']\n",
    "\n",
    "dfcumuret_exTSLA = dfcumuret[tickers_exTSLA]\n",
    "dfcumuret_exTSLA.plot()"
   ]
  },
  {
   "cell_type": "markdown",
   "id": "f0a3f5f1",
   "metadata": {},
   "source": [
    "# Find stock weights (w) that minimize portfolio volatility"
   ]
  },
  {
   "cell_type": "code",
   "execution_count": null,
   "id": "d9f786f4",
   "metadata": {},
   "outputs": [],
   "source": [
    "import scipy\n",
    "from scipy.optimize import Bounds\n",
    "from scipy.optimize import LinearConstraint\n",
    "from scipy.optimize import minimize\n",
    "\n",
    "bounds = Bounds(0,1) # all weights between 0 and 1\n",
    "linear_constraint = LinearConstraint(np.ones(10), 1,1) # sum of weight >1 and <1, hence sum of weight = 1 (equality constraint)\n",
    "covar=dfret.cov()\n",
    "r=np.mean(dfret,axis=0)*252 # r = mean return of each stock\n",
    "\n",
    "weights = np.ones(10)\n",
    "x0 = [0.1]*10 # initial guess of respective weights\n",
    "\n",
    "portfstrderr = lambda w: np.sqrt(np.dot(w, np.dot(w,covar))*252)\n",
    "\n",
    "res1 = minimize(portfstrderr, x0, method='trust-constr', constraints=linear_constraint, bounds=bounds)"
   ]
  },
  {
   "cell_type": "markdown",
   "id": "72683332",
   "metadata": {},
   "source": [
    "# methods?\n",
    "- <u/>trust-constr</u>\n",
    "    - equality and inequality constraints\n",
    "    - (eg) optimize portfolio weights, given that sum of weights equal 1\n",
    "- <u/>BFGS</u>\n",
    "    - unconstrained \n",
    "    - (eg) minimum of a quadratic function\n",
    "- <u/>L-BFGS-B</u>\n",
    "    - bound constraints"
   ]
  },
  {
   "cell_type": "code",
   "execution_count": null,
   "id": "dede3302",
   "metadata": {},
   "outputs": [],
   "source": [
    "def ret(r,w):\n",
    "    return r.dot(w)\n",
    "\n",
    "def vol(w,covar):\n",
    "    return np.sqrt(np.dot(w, np.dot(w,covar))*252)\n",
    "\n",
    "def sharpe(ret, vol):\n",
    "    return ret/vol\n",
    "\n",
    "w_min = res1.x\n",
    "ret1 = ret(r,w_min)\n",
    "vol1 = vol(w_min,covar)\n",
    "sharpe1 = sharpe(ret1, vol1)\n",
    "print('return = ', round(ret1,2))\n",
    "print('vol = ', round(vol1,2))\n",
    "print('sharpe ratio = ', round(sharpe1,2))"
   ]
  },
  {
   "cell_type": "markdown",
   "id": "3f489933",
   "metadata": {},
   "source": [
    "# Maximize sharpe ratio"
   ]
  },
  {
   "cell_type": "code",
   "execution_count": null,
   "id": "0d80ad28",
   "metadata": {},
   "outputs": [],
   "source": [
    "invSharpe = lambda w: np.sqrt(np.dot(w, np.dot(w,covar))*252)   /    r.dot(w)\n",
    "res2 = minimize(invSharpe, x0, method='trust-constr', constraints=linear_constraint, bounds=bounds)"
   ]
  },
  {
   "cell_type": "code",
   "execution_count": null,
   "id": "4dd51ba6",
   "metadata": {},
   "outputs": [],
   "source": [
    "w_Sharpe = res2.x\n",
    "ret2 = ret(r,w_Sharpe)\n",
    "vol2 = vol(w_Sharpe,covar)\n",
    "sharpe2 = sharpe(ret2, vol2)\n",
    "print('return = ', round(ret2,2))\n",
    "print('vol = ', round(vol2,2))\n",
    "print('sharpe ratio = ', round(sharpe2,2))"
   ]
  },
  {
   "cell_type": "markdown",
   "id": "b012e383",
   "metadata": {},
   "source": [
    "# Analyse relationship of return, volatility and sharpe ratio"
   ]
  },
  {
   "cell_type": "code",
   "execution_count": null,
   "id": "809a82a1",
   "metadata": {},
   "outputs": [],
   "source": [
    "w = w_min\n",
    "num_ports = 100\n",
    "r_min = ret(r,w_min)\n",
    "gap = (max(r) - r_min) / num_ports\n",
    "\n",
    "all_weights = np.zeros((num_ports, len(dfret.columns)))\n",
    "ret_arr = np.zeros(num_ports)\n",
    "vol_arr = np.zeros(num_ports)\n",
    "\n",
    "x0= w_min\n",
    "\n",
    "for i in range(num_ports):\n",
    "    port_ret = r_min + i*gap \n",
    "    double_constraints = LinearConstraint([np.ones(dfret.shape[1]), r], [1,port_ret], [1,port_ret])\n",
    "    # equality constraint : sum of weight == 1\n",
    "    # equality constraint : portfolio return == port_ret\n",
    "    portfvola = lambda w: np.sqrt(np.dot(w,np.dot(w,covar))*252)\n",
    "    res = minimize(portfvola, x0, method='trust-constr', constraints=double_constraints, bounds=bounds)\n",
    "    all_weights[i,:] = res.x # populate the weights for diff i\n",
    "    ret_arr[i] = port_ret\n",
    "    vol_arr[i] = vol(res.x, covar)\n",
    "    \n",
    "sharpe_arr = ret_arr/ vol_arr\n",
    "\n",
    "plt.scatter(vol_arr, ret_arr, c=sharpe_arr, cmap='viridis')\n",
    "plt.colorbar(label='Sharpe Ratio')\n",
    "plt.xlabel('Volatility')\n",
    "plt.ylabel('Return')"
   ]
  },
  {
   "cell_type": "code",
   "execution_count": null,
   "id": "d2c3ccbd",
   "metadata": {},
   "outputs": [],
   "source": [
    "df_sharpe = pd.DataFrame({'sharpe':sharpe_arr, \n",
    "                          'ret_arr':ret_arr, 'vol_arr':vol_arr})"
   ]
  },
  {
   "cell_type": "code",
   "execution_count": null,
   "id": "e4a35439",
   "metadata": {},
   "outputs": [],
   "source": [
    "all_weights_df = pd.DataFrame(all_weights)\n",
    "all_weights_df.columns = tickers"
   ]
  },
  {
   "cell_type": "code",
   "execution_count": null,
   "id": "248b1727",
   "metadata": {},
   "outputs": [],
   "source": [
    "df_sharpe = df_sharpe.join(all_weights_df, how='left')"
   ]
  },
  {
   "cell_type": "code",
   "execution_count": null,
   "id": "3c3d2122",
   "metadata": {},
   "outputs": [],
   "source": [
    "df_sharpe = df_sharpe.sort_values('sharpe',ascending=False)"
   ]
  },
  {
   "cell_type": "code",
   "execution_count": null,
   "id": "da62bb84",
   "metadata": {},
   "outputs": [],
   "source": [
    "print(tickers)\n",
    "\n",
    "for i in range(10):\n",
    "    # 0 - 9\n",
    "    # 10 - 19\n",
    "    # 90-99\n",
    "    ave_sharpe = df_sharpe['sharpe'][i*10:i*10+10].mean()\n",
    "    print()\n",
    "    print('average sharpe = ', round(ave_sharpe,2))\n",
    "    \n",
    "    ave_weights = []\n",
    "    for each in tickers:\n",
    "        ave_weight = df_sharpe[each][i*10:i*10+10].mean()\n",
    "        ave_weights.append(round(ave_weight,3))\n",
    "        \n",
    "    print('ave_weights')\n",
    "    print(ave_weights)"
   ]
  },
  {
   "cell_type": "code",
   "execution_count": null,
   "id": "b3b78bd8",
   "metadata": {},
   "outputs": [],
   "source": [
    "weights = [0.092, 0.393, 0.016, 0.0, 0.001, 0.138, 0.119, 0.037, 0.118, 0.086]"
   ]
  },
  {
   "cell_type": "code",
   "execution_count": null,
   "id": "ec075555",
   "metadata": {},
   "outputs": [],
   "source": [
    "pd.DataFrame({'Tickers':tickers, 'Weights':weights}).sort_values('Weights', ascending=False)"
   ]
  },
  {
   "cell_type": "markdown",
   "id": "caafb0b1",
   "metadata": {},
   "source": [
    "<font color='red'> Highest sharpe ratio of 1.07 is attained with high weight in MSFT (40%).  The performance of MSFT dominates the portfolio. TSLA, JNJ and WMT have weights of 12%, the rest are less than 10%. "
   ]
  },
  {
   "cell_type": "markdown",
   "id": "6ced89e9",
   "metadata": {},
   "source": [
    "# Thank you for reading :)"
   ]
  }
 ],
 "metadata": {
  "kernelspec": {
   "display_name": "Python 3 (ipykernel)",
   "language": "python",
   "name": "python3"
  },
  "language_info": {
   "codemirror_mode": {
    "name": "ipython",
    "version": 3
   },
   "file_extension": ".py",
   "mimetype": "text/x-python",
   "name": "python",
   "nbconvert_exporter": "python",
   "pygments_lexer": "ipython3",
   "version": "3.11.5"
  }
 },
 "nbformat": 4,
 "nbformat_minor": 5
}
