{
 "cells": [
  {
   "cell_type": "code",
   "execution_count": 1,
   "metadata": {},
   "outputs": [],
   "source": [
    "import pandas as pd\n",
    "import numpy as np\n",
    "import yfinance as yf\n",
    "import matplotlib.pyplot as plt\n",
    "from datetime import datetime, timedelta\n",
    "from pytz import timezone\n",
    "import statsmodels.api as sm\n",
    "from statsmodels.tsa.stattools import adfuller\n",
    "from pandas.plotting import register_matplotlib_converters\n",
    "from statsmodels.tsa.vector_ar.vecm import coint_johansen\n",
    "from hurst import compute_Hc\n",
    "register_matplotlib_converters()\n",
    "import warnings\n",
    "warnings.simplefilter(action='ignore', category=FutureWarning)"
   ]
  },
  {
   "cell_type": "code",
   "execution_count": 2,
   "metadata": {},
   "outputs": [],
   "source": [
    "def plot_col(data , col_name):\n",
    "    plt.figure(figsize=(16, 6))\n",
    "    plt.plot(data.index, data[col_name], label='col_name', color='purple', )\n",
    "    # plt.plot(data.index, data['col_name'], label='col_name', color='purple', linestyle='--')\n",
    "    plt.xlabel('Date')\n",
    "    plt.ylabel(f'{col_name}')\n",
    "    plt.legend()\n",
    "    plt.show()"
   ]
  },
  {
   "cell_type": "code",
   "execution_count": 3,
   "metadata": {},
   "outputs": [],
   "source": [
    "def download_data(symbols, start_date, end_date):\n",
    "\n",
    "    try:\n",
    "        data = yf.download(symbols, start=start_date, end=end_date, interval='1d')['Adj Close']\n",
    "    except: \n",
    "        SyntaxError(\"Exception in downloading data\")\n",
    "    data.replace([np.inf, -np.inf], np.nan, inplace=True)\n",
    "    data.dropna(inplace=True)\n",
    "    # data = data.reset_index()\n",
    "    # timestamp_column_name = data.columns[0]  # Assuming the timestamp is the first column\n",
    "    # data = data[[timestamp_column_name, 'Close']]\n",
    "    # data.columns = ['timestamp', 'price']\n",
    "    # print(symbol, start_date, end_date, interval, data.shape[0])\n",
    "    return data"
   ]
  },
  {
   "cell_type": "code",
   "execution_count": 4,
   "metadata": {},
   "outputs": [],
   "source": [
    "train_start = datetime(2022, 11, 1, tzinfo=timezone('Asia/Tehran'))\n",
    "train_end = datetime(2023, 11, 1, tzinfo=timezone('Asia/Tehran'))\n",
    "cryptos = ['BTC-USD', 'ETH-USD', 'USDT-USD', 'SOL-USD',]"
   ]
  },
  {
   "cell_type": "code",
   "execution_count": 5,
   "metadata": {},
   "outputs": [
    {
     "name": "stdout",
     "output_type": "stream",
     "text": [
      "[*********************100%%**********************]  4 of 4 completed\n"
     ]
    }
   ],
   "source": [
    "df = download_data(cryptos, train_start, train_end)"
   ]
  },
  {
   "cell_type": "code",
   "execution_count": 13,
   "metadata": {},
   "outputs": [
    {
     "data": {
      "text/html": [
       "<div>\n",
       "<style scoped>\n",
       "    .dataframe tbody tr th:only-of-type {\n",
       "        vertical-align: middle;\n",
       "    }\n",
       "\n",
       "    .dataframe tbody tr th {\n",
       "        vertical-align: top;\n",
       "    }\n",
       "\n",
       "    .dataframe thead th {\n",
       "        text-align: right;\n",
       "    }\n",
       "</style>\n",
       "<table border=\"1\" class=\"dataframe\">\n",
       "  <thead>\n",
       "    <tr style=\"text-align: right;\">\n",
       "      <th></th>\n",
       "      <th>BTC-USD</th>\n",
       "      <th>ETH-USD</th>\n",
       "      <th>SOL-USD</th>\n",
       "      <th>USDT-USD</th>\n",
       "    </tr>\n",
       "    <tr>\n",
       "      <th>Date</th>\n",
       "      <th></th>\n",
       "      <th></th>\n",
       "      <th></th>\n",
       "      <th></th>\n",
       "    </tr>\n",
       "  </thead>\n",
       "  <tbody>\n",
       "    <tr>\n",
       "      <th>2022-10-31</th>\n",
       "      <td>20495.773438</td>\n",
       "      <td>1572.714478</td>\n",
       "      <td>32.611038</td>\n",
       "      <td>0.999947</td>\n",
       "    </tr>\n",
       "    <tr>\n",
       "      <th>2022-11-01</th>\n",
       "      <td>20485.273438</td>\n",
       "      <td>1579.704590</td>\n",
       "      <td>32.248425</td>\n",
       "      <td>0.999924</td>\n",
       "    </tr>\n",
       "    <tr>\n",
       "      <th>2022-11-02</th>\n",
       "      <td>20159.503906</td>\n",
       "      <td>1519.711792</td>\n",
       "      <td>30.788076</td>\n",
       "      <td>0.999996</td>\n",
       "    </tr>\n",
       "    <tr>\n",
       "      <th>2022-11-03</th>\n",
       "      <td>20209.988281</td>\n",
       "      <td>1531.541748</td>\n",
       "      <td>30.843880</td>\n",
       "      <td>1.000007</td>\n",
       "    </tr>\n",
       "    <tr>\n",
       "      <th>2022-11-04</th>\n",
       "      <td>21147.230469</td>\n",
       "      <td>1645.093384</td>\n",
       "      <td>33.780853</td>\n",
       "      <td>1.000076</td>\n",
       "    </tr>\n",
       "    <tr>\n",
       "      <th>...</th>\n",
       "      <td>...</td>\n",
       "      <td>...</td>\n",
       "      <td>...</td>\n",
       "      <td>...</td>\n",
       "    </tr>\n",
       "    <tr>\n",
       "      <th>2023-10-27</th>\n",
       "      <td>33909.800781</td>\n",
       "      <td>1780.045288</td>\n",
       "      <td>31.739698</td>\n",
       "      <td>1.000257</td>\n",
       "    </tr>\n",
       "    <tr>\n",
       "      <th>2023-10-28</th>\n",
       "      <td>34089.574219</td>\n",
       "      <td>1776.618164</td>\n",
       "      <td>31.653318</td>\n",
       "      <td>1.000253</td>\n",
       "    </tr>\n",
       "    <tr>\n",
       "      <th>2023-10-29</th>\n",
       "      <td>34538.480469</td>\n",
       "      <td>1795.546021</td>\n",
       "      <td>32.822609</td>\n",
       "      <td>1.000387</td>\n",
       "    </tr>\n",
       "    <tr>\n",
       "      <th>2023-10-30</th>\n",
       "      <td>34502.363281</td>\n",
       "      <td>1810.088623</td>\n",
       "      <td>34.962337</td>\n",
       "      <td>1.000572</td>\n",
       "    </tr>\n",
       "    <tr>\n",
       "      <th>2023-10-31</th>\n",
       "      <td>34667.781250</td>\n",
       "      <td>1816.458984</td>\n",
       "      <td>38.519516</td>\n",
       "      <td>1.000315</td>\n",
       "    </tr>\n",
       "  </tbody>\n",
       "</table>\n",
       "<p>366 rows × 4 columns</p>\n",
       "</div>"
      ],
      "text/plain": [
       "                 BTC-USD      ETH-USD    SOL-USD  USDT-USD\n",
       "Date                                                      \n",
       "2022-10-31  20495.773438  1572.714478  32.611038  0.999947\n",
       "2022-11-01  20485.273438  1579.704590  32.248425  0.999924\n",
       "2022-11-02  20159.503906  1519.711792  30.788076  0.999996\n",
       "2022-11-03  20209.988281  1531.541748  30.843880  1.000007\n",
       "2022-11-04  21147.230469  1645.093384  33.780853  1.000076\n",
       "...                  ...          ...        ...       ...\n",
       "2023-10-27  33909.800781  1780.045288  31.739698  1.000257\n",
       "2023-10-28  34089.574219  1776.618164  31.653318  1.000253\n",
       "2023-10-29  34538.480469  1795.546021  32.822609  1.000387\n",
       "2023-10-30  34502.363281  1810.088623  34.962337  1.000572\n",
       "2023-10-31  34667.781250  1816.458984  38.519516  1.000315\n",
       "\n",
       "[366 rows x 4 columns]"
      ]
     },
     "execution_count": 13,
     "metadata": {},
     "output_type": "execute_result"
    }
   ],
   "source": [
    "df"
   ]
  },
  {
   "cell_type": "code",
   "execution_count": 6,
   "metadata": {},
   "outputs": [
    {
     "name": "stdout",
     "output_type": "stream",
     "text": [
      "             BTC-USD   ETH-USD   SOL-USD  USDT-USD\n",
      "Date                                              \n",
      "2022-11-01 -0.000512  0.004445 -0.011119 -0.000023\n",
      "2022-11-02 -0.015903 -0.037977 -0.045284  0.000072\n",
      "2022-11-03  0.002504  0.007784  0.001812  0.000011\n",
      "2022-11-04  0.046375  0.074142  0.095221  0.000069\n",
      "2022-11-05  0.006406 -0.010410  0.088361  0.000043\n",
      "...              ...       ...       ...       ...\n",
      "2023-10-27 -0.007227 -0.013300 -0.031603  0.000064\n",
      "2023-10-28  0.005302 -0.001925 -0.002722 -0.000004\n",
      "2023-10-29  0.013168  0.010654  0.036941  0.000134\n",
      "2023-10-30 -0.001046  0.008099  0.065191  0.000185\n",
      "2023-10-31  0.004794  0.003519  0.101743 -0.000257\n",
      "\n",
      "[365 rows x 4 columns]\n"
     ]
    }
   ],
   "source": [
    "weights = [0.2, 0.5, 0.2, 0.1]\n",
    "\n",
    "money_at_first = 1000\n",
    "\n",
    "ret_data = df.pct_change()[1:]\n",
    "print(ret_data)"
   ]
  },
  {
   "cell_type": "code",
   "execution_count": 7,
   "metadata": {},
   "outputs": [
    {
     "name": "stdout",
     "output_type": "stream",
     "text": [
      "             BTC-USD   ETH-USD   SOL-USD      USDT-USD\n",
      "Date                                                  \n",
      "2022-11-01 -0.000102  0.002222 -0.002224 -2.300861e-06\n",
      "2022-11-02 -0.003181 -0.018989 -0.009057  7.200788e-06\n",
      "2022-11-03  0.000501  0.003892  0.000362  1.102690e-06\n",
      "2022-11-04  0.009275  0.037071  0.019044  6.902169e-06\n",
      "2022-11-05  0.001281 -0.005205  0.017672  4.291208e-06\n",
      "...              ...       ...       ...           ...\n",
      "2023-10-27 -0.001445 -0.006650 -0.006321  6.400304e-06\n",
      "2023-10-28  0.001060 -0.000963 -0.000544 -4.052074e-07\n",
      "2023-10-29  0.002634  0.005327  0.007388  1.339574e-05\n",
      "2023-10-30 -0.000209  0.004050  0.013038  1.849413e-05\n",
      "2023-10-31  0.000959  0.001760  0.020349 -2.568683e-05\n",
      "\n",
      "[365 rows x 4 columns]\n"
     ]
    }
   ],
   "source": [
    "weighted_returns = (weights * ret_data)\n",
    "print(weighted_returns)"
   ]
  },
  {
   "cell_type": "code",
   "execution_count": 8,
   "metadata": {},
   "outputs": [
    {
     "data": {
      "image/png": "[encoded data removed]",
      "text/plain": [
       "<Figure size 640x480 with 1 Axes>"
      ]
     },
     "metadata": {},
     "output_type": "display_data"
    }
   ],
   "source": [
    "port_ret = weighted_returns.sum(axis=1)\n",
    "\n",
    "fig = plt.figure()\n",
    "ax1 = fig.add_axes([0.1,0.1,0.8,0.8])\n",
    "ax1.hist(port_ret, bins = 60)\n",
    "ax1.set_xlabel('Portfolio returns')\n",
    "ax1.set_ylabel(\"Freq\")\n",
    "ax1.set_title(\"Portfolio Returns calculated manually\")\n",
    "plt.show(); "
   ]
  },
  {
   "cell_type": "code",
   "execution_count": 9,
   "metadata": {},
   "outputs": [],
   "source": [
    "def sortinoRate(rets , TargetReturn):\n",
    "    downside_returns = np.minimum(0 , rets-TargetReturn)\n",
    "    downside_variance =  np.mean(downside_returns**2)\n",
    "    downside_std = np.sqrt(downside_variance)\n",
    "    sortino_rate = (np.mean(rets) - TargetReturn) / downside_std\n",
    "\n",
    "    return sortino_rate"
   ]
  },
  {
   "cell_type": "markdown",
   "metadata": {},
   "source": [
    "# Random Weight statistics"
   ]
  },
  {
   "cell_type": "code",
   "execution_count": 10,
   "metadata": {},
   "outputs": [
    {
     "name": "stdout",
     "output_type": "stream",
     "text": [
      "Random Weight Sharpe Ratio:0.72\n",
      "Random Weight Sortino Ratio:1.14\n",
      "Random Weight Net Profit: 320.9268$ percentage:32.09%\n"
     ]
    }
   ],
   "source": [
    "expected_port_return = np.mean(port_ret)\n",
    "annual_risk_free_ratio = 0.04\n",
    "daily_risk_free_ratio =  (1+annual_risk_free_ratio) ** (1/365) -1\n",
    "std_of_returns = np.std(port_ret)\n",
    "initialCapital = 1000\n",
    "sharpeRatio = np.sqrt(365) * ((expected_port_return - daily_risk_free_ratio) / std_of_returns)\n",
    "sortinoRatio = np.sqrt(365) * sortinoRate(port_ret , 0)\n",
    "port_cumulative_returns  = np.cumprod(1+port_ret)\n",
    "net_profit_over_time = initialCapital * port_cumulative_returns\n",
    "\n",
    "final_net_profit = net_profit_over_time[-1] - initialCapital\n",
    "final_net_profit_percent = final_net_profit/initialCapital * 100\n",
    "print(\"Random Weight Sharpe Ratio:{:.2f}\".format(sharpeRatio))\n",
    "print(\"Random Weight Sortino Ratio:{:.2f}\".format(sortinoRatio))\n",
    "print(\"Random Weight Net Profit: {:.4f}$\".format(final_net_profit) + \" percentage:\" + \"{:.2f}%\".format(final_net_profit_percent))"
   ]
  },
  {
   "cell_type": "code",
   "execution_count": 11,
   "metadata": {},
   "outputs": [],
   "source": [
    "from scipy.optimize import minimize\n",
    "\n",
    "# Define the objective functions\n",
    "def neg_sharpe_ratio(weights, ret_data):\n",
    "    weighted_returns = (weights * ret_data)\n",
    "    port_ret = weighted_returns.sum(axis=1)\n",
    "    expected_port_return = np.mean(port_ret)\n",
    "    std_of_returns = np.std(port_ret)\n",
    "    sharpe_ratio = np.sqrt(365) * ((expected_port_return - daily_risk_free_ratio) / std_of_returns)\n",
    "    return -sharpe_ratio\n",
    "\n",
    "def neg_net_profit(weights, ret_data):\n",
    "    weighted_returns = (weights * ret_data)\n",
    "    port_ret = weighted_returns.sum(axis=1)\n",
    "    port_cumulative_returns  = np.cumprod(1+port_ret)\n",
    "    net_profit_over_time = initialCapital * port_cumulative_returns\n",
    "    final_net_profit = net_profit_over_time[-1] - initialCapital\n",
    "    return -final_net_profit\n",
    "\n",
    "def neg_sortino_ratio(weights, ret_data):\n",
    "    weighted_returns = (weights * ret_data)\n",
    "    port_ret = weighted_returns.sum(axis=1)\n",
    "    sortino_ratio = np.sqrt(365) * sortinoRate(port_ret , 0)\n",
    "    return -sortino_ratio\n"
   ]
  },
  {
   "cell_type": "code",
   "execution_count": 12,
   "metadata": {},
   "outputs": [
    {
     "name": "stdout",
     "output_type": "stream",
     "text": [
      "Optimal weights for maximizing Sharpe Ratio:  [1.00000000e+00 0.00000000e+00 0.00000000e+00 2.23432384e-15]\n",
      "Optimal weights for maximizing Net Profit:  [9.99999999e-01 6.94414573e-10 1.00000000e-10 8.75119802e-10]\n",
      "Optimal weights for maximizing Sortino Ratio:  [9.22251008e-01 5.55111512e-17 0.00000000e+00 7.77489915e-02]\n"
     ]
    }
   ],
   "source": [
    "# Initial guess for the weights\n",
    "init_guess = [0.25, 0.25, 0.25, 0.25]\n",
    "\n",
    "# The constraints are that the weights must sum to 1\n",
    "constraints = ({'type': 'eq', 'fun': lambda x: np.sum(x) - 1})\n",
    "\n",
    "# The bounds are that each weight is between 0 and 1\n",
    "bounds = ((0, 1), (0, 1), (0, 1), (0, 1))\n",
    "\n",
    "# Use scipy.optimize.minimize to find the optimal weights\n",
    "opt_weights_sharpe = minimize(neg_sharpe_ratio, init_guess, args=(ret_data,), method='SLSQP', bounds=bounds, constraints=constraints)\n",
    "opt_weights_net_profit = minimize(neg_net_profit, init_guess, args=(ret_data,), method='SLSQP', bounds=bounds, constraints=constraints)\n",
    "opt_weights_sortino = minimize(neg_sortino_ratio, init_guess, args=(ret_data,), method='SLSQP', bounds=bounds, constraints=constraints)\n",
    "\n",
    "# Print the optimal weights\n",
    "print(\"Optimal weights for maximizing Sharpe Ratio: \", opt_weights_sharpe.x)\n",
    "print(\"Optimal weights for maximizing Net Profit: \", opt_weights_net_profit.x)\n",
    "print(\"Optimal weights for maximizing Sortino Ratio: \", opt_weights_sortino.x)\n"
   ]
  },
  {
   "cell_type": "code",
   "execution_count": null,
   "metadata": {},
   "outputs": [],
   "source": []
  },
  {
   "cell_type": "code",
   "execution_count": null,
   "metadata": {},
   "outputs": [],
   "source": []
  }
 ],
 "metadata": {
  "kernelspec": {
   "display_name": "Python 3",
   "language": "python",
   "name": "python3"
  },
  "language_info": {
   "codemirror_mode": {
    "name": "ipython",
    "version": 3
   },
   "file_extension": ".py",
   "mimetype": "text/x-python",
   "name": "python",
   "nbconvert_exporter": "python",
   "pygments_lexer": "ipython3",
   "version": "3.11.6"
  }
 },
 "nbformat": 4,
 "nbformat_minor": 2
}
