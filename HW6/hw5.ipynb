{
 "cells": [
  {
   "cell_type": "code",
   "execution_count": 11,
   "metadata": {},
   "outputs": [],
   "source": [
    "# imports \n",
    "import pandas as pd\n",
    "import numpy as np\n",
    "import yfinance as yf\n",
    "import matplotlib.pyplot as plt\n",
    "from datetime import datetime, timedelta\n",
    "from pytz import timezone\n",
    "import statsmodels.api as sm\n",
    "from statsmodels.tsa.stattools import adfuller\n",
    "from pandas.plotting import register_matplotlib_converters\n",
    "from statsmodels.tsa.vector_ar.vecm import coint_johansen\n",
    "from hurst import compute_Hc\n",
    "register_matplotlib_converters()\n"
   ]
  },
  {
   "cell_type": "code",
   "execution_count": 12,
   "metadata": {},
   "outputs": [],
   "source": [
    "def calculate_half_life(series):\n",
    "    # Add a small constant to series\n",
    "    series = series + 1e-10\n",
    "\n",
    "    delta_series = np.log(series).diff().dropna()\n",
    "    lagged_series = delta_series.shift(1).dropna()\n",
    "    lagged_series = sm.add_constant(lagged_series)\n",
    "    delta_series_lagged = delta_series[1:]  # Make sure delta_series_lagged is the same length as lagged_series\n",
    "\n",
    "    # Check if delta_series_lagged and lagged_series are not empty\n",
    "    if delta_series_lagged.size > 0 and lagged_series.size > 0:\n",
    "        model = sm.OLS(delta_series_lagged, lagged_series)\n",
    "        res = model.fit()\n",
    "\n",
    "        # Calculate half-life\n",
    "        half_life = -np.log(2) / res.params['const']\n",
    "        return half_life\n",
    "    else:\n",
    "        return \"Cannot calculate half-life because the series is empty.\"\n"
   ]
  },
  {
   "cell_type": "code",
   "execution_count": 13,
   "metadata": {},
   "outputs": [],
   "source": [
    "\n",
    "# Function to calculate Hurst exponent\n",
    "def hurst_exponent(ts):\n",
    "    lags = range(2, 20)\n",
    "    tau = [np.std(np.subtract(ts[lag:], ts[:-lag])) for lag in lags]\n",
    "    hurst = np.polyfit(np.log(lags), np.log(tau), 1)[0]\n",
    "    return hurst\n"
   ]
  },
  {
   "cell_type": "code",
   "execution_count": 14,
   "metadata": {},
   "outputs": [],
   "source": [
    "def download_4h_data(symbols, start_date, end_date):\n",
    "\n",
    "    try:\n",
    "        data = yf.download(symbols, start=start_date, end=end_date, interval='1h')['Close']\n",
    "        # Resample to 4-hour intervals\n",
    "        data = data.resample('4h').last()\n",
    "    except: \n",
    "        SyntaxError(\"Exception in downloading data\")\n",
    "    data.replace([np.inf, -np.inf], np.nan, inplace=True)\n",
    "    data.dropna(inplace=True)\n",
    "    # data = data.reset_index()\n",
    "    # timestamp_column_name = data.columns[0]  # Assuming the timestamp is the first column\n",
    "    # data = data[[timestamp_column_name, 'Close']]\n",
    "    # data.columns = ['timestamp', 'price']\n",
    "    # print(symbol, start_date, end_date, interval, data.shape[0])\n",
    "    return data"
   ]
  },
  {
   "cell_type": "code",
   "execution_count": 18,
   "metadata": {},
   "outputs": [],
   "source": [
    "def find_cointegration(cryptos, start_date, end_date,counter, res_str=\"\"):\n",
    "    data = download_4h_data(cryptos, start_date=start_date, end_date=end_date)\n",
    "    \n",
    "    result = coint_johansen(data.values, det_order=0, k_ar_diff=1)\n",
    "    \n",
    "    eigenvectors = result.evec\n",
    "    # print(eigenvectors)\n",
    "    for i in range(eigenvectors.shape[1]):\n",
    "        # print('**')\n",
    "        stationary_series = np.dot(data.values, eigenvectors[:, i])\n",
    "        result = adfuller(stationary_series)\n",
    "        if result[1] < 0.05:\n",
    "            hurst = hurst_exponent(stationary_series)\n",
    "            half_life = calculate_half_life(pd.Series(stationary_series))\n",
    "            print(*cryptos )\n",
    "            print(*eigenvectors[:, i])\n",
    "            print(f'P-Value: {result[1]}')\n",
    "            print(f'Hurst Exponent: {hurst}')\n",
    "            print(f'Half-Life: {half_life}')\n",
    "            print('-------------------------------------------------------------------------------------------------------')\n",
    "            res_str += str(cryptos).replace('[','').replace(']','') +'\\n'\n",
    "            res_str +=str(eigenvectors[:, i]).replace('[','').replace(']','') + '\\n'\n",
    "            res_str += \"----\\n\"\n",
    "            counter +=1\n",
    "    return res_str, counter"
   ]
  },
  {
   "cell_type": "code",
   "execution_count": 27,
   "metadata": {},
   "outputs": [
    {
     "name": "stdout",
     "output_type": "stream",
     "text": [
      "[*********************100%%**********************]  2 of 2 completed\n",
      "[*********************100%%**********************]  2 of 2 completed\n",
      "BTC-USD USDT-USD\n",
      "1.646426037523512e-05 -975.2392646241341\n",
      "P-Value: 4.419942616456486e-05\n",
      "Hurst Exponent: 0.202684333529463\n",
      "Half-Life: Cannot calculate half-life because the series is empty.\n",
      "-------------------------------------------------------------------------------------------------------\n",
      "[*********************100%%**********************]  2 of 2 completed\n",
      "BTC-USD SOL-USD\n",
      "0.0002514638713570391 -0.23745998211005442\n",
      "P-Value: 0.0021971809980979528\n",
      "Hurst Exponent: 0.5760562021617769\n",
      "Half-Life: -1277.8017943439072\n",
      "-------------------------------------------------------------------------------------------------------\n",
      "[*********************100%%**********************]  2 of 2 completed\n",
      "BTC-USD USDC-USD\n",
      "1.124102972257997e-05 -261.6013552074727\n",
      "P-Value: 6.4742120866502e-13\n",
      "Hurst Exponent: 0.20188801313085367\n",
      "Half-Life: Cannot calculate half-life because the series is empty.\n",
      "-------------------------------------------------------------------------------------------------------\n",
      "[*********************100%%**********************]  2 of 2 completed\n",
      "[*********************100%%**********************]  2 of 2 completed\n",
      "[*********************100%%**********************]  2 of 2 completed\n",
      "BTC-USD XRP-USD\n",
      "0.00023453255870198482 -15.052695052600741\n",
      "P-Value: 0.03817087985490856\n",
      "Hurst Exponent: 0.45869536852789244\n",
      "Half-Life: -10.0235541176891\n",
      "-------------------------------------------------------------------------------------------------------\n",
      "[*********************100%%**********************]  2 of 2 completed\n",
      "BTC-USD DOGE-USD\n",
      "8.907794264224824e-05 86.24757888276825\n",
      "P-Value: 0.00015444752493327035\n",
      "Hurst Exponent: 0.4918892518895148\n",
      "Half-Life: 4014.44044854905\n",
      "-------------------------------------------------------------------------------------------------------\n",
      "[*********************100%%**********************]  2 of 2 completed\n",
      "ETH-USD USDT-USD\n",
      "0.0006050302509567545 -979.749463191098\n",
      "P-Value: 3.790199813695497e-05\n",
      "Hurst Exponent: 0.20278850827900452\n",
      "Half-Life: Cannot calculate half-life because the series is empty.\n",
      "-------------------------------------------------------------------------------------------------------\n",
      "[*********************100%%**********************]  2 of 2 completed\n",
      "[*********************100%%**********************]  2 of 2 completed\n",
      "ETH-USD USDC-USD\n",
      "0.00013001927272566753 -261.42562937549945\n",
      "P-Value: 6.464059392207049e-13\n",
      "Hurst Exponent: 0.20221950027062394\n",
      "Half-Life: Cannot calculate half-life because the series is empty.\n",
      "-------------------------------------------------------------------------------------------------------\n",
      "[*********************100%%**********************]  2 of 2 completed\n",
      "ETH-USD STETH-USD\n",
      "0.11448220741591973 -0.11140246135193305\n",
      "P-Value: 0.0039930283494715784\n",
      "Hurst Exponent: 0.1552399935551251\n",
      "Half-Life: -5008.190345561137\n",
      "-------------------------------------------------------------------------------------------------------\n",
      "[*********************100%%**********************]  2 of 2 completed\n",
      "[*********************100%%**********************]  2 of 2 completed\n",
      "[*********************100%%**********************]  2 of 2 completed\n",
      "ETH-USD DOGE-USD\n",
      "78.91366165704673 0.001539425572830436\n",
      "P-Value: 0.0003172277544472306\n",
      "Hurst Exponent: 0.494621609528452\n",
      "Half-Life: 3386.3770945047327\n",
      "-------------------------------------------------------------------------------------------------------\n",
      "[*********************100%%**********************]  2 of 2 completed\n",
      "USDT-USD SOL-USD\n",
      "0.020636192097042927 -973.83319457139\n",
      "P-Value: 4.9495576598464355e-05\n",
      "Hurst Exponent: 0.20058595452195238\n",
      "Half-Life: Cannot calculate half-life because the series is empty.\n",
      "-------------------------------------------------------------------------------------------------------\n",
      "[*********************100%%**********************]  2 of 2 completed\n",
      "USDT-USD USDC-USD\n",
      "326.49657454320067 939.8435595790911\n",
      "P-Value: 7.225035800288594e-10\n",
      "Hurst Exponent: 0.03922361719389466\n",
      "Half-Life: -3702848.314427945\n",
      "-------------------------------------------------------------------------------------------------------\n",
      "USDT-USD USDC-USD\n",
      "-67.35320530415058 803.9500814638671\n",
      "P-Value: 2.8590279273573753e-06\n",
      "Hurst Exponent: 0.2893775277210753\n",
      "Half-Life: -2873632.0155848744\n",
      "-------------------------------------------------------------------------------------------------------\n",
      "[*********************100%%**********************]  2 of 2 completed\n",
      "USDT-USD STETH-USD\n",
      "0.0005696206982187301 -975.3513774382842\n",
      "P-Value: 4.234083420877186e-05\n",
      "Hurst Exponent: 0.20278487555569258\n",
      "Half-Life: Cannot calculate half-life because the series is empty.\n",
      "-------------------------------------------------------------------------------------------------------\n",
      "[*********************100%%**********************]  2 of 2 completed\n",
      "USDT-USD BNB-USD\n",
      "0.005982945430238789 -996.1323220258352\n",
      "P-Value: 1.7682741358959307e-05\n",
      "Hurst Exponent: 0.2043053725267741\n",
      "Half-Life: Cannot calculate half-life because the series is empty.\n",
      "-------------------------------------------------------------------------------------------------------\n",
      "[*********************100%%**********************]  2 of 2 completed\n",
      "USDT-USD XRP-USD\n",
      "978.1718750557255 1.650032434424411\n",
      "P-Value: 3.4878212873669566e-05\n",
      "Hurst Exponent: 0.20242458907895422\n",
      "Half-Life: -1740524.8667447949\n",
      "-------------------------------------------------------------------------------------------------------\n"
     ]
    }
   ],
   "source": [
    "res_str = \"\"\n",
    "cryptos = ['BTC-USD', 'ETH-USD', 'USDT-USD', 'SOL-USD', 'USDC-USD', 'STETH-USD', 'BNB-USD', 'XRP-USD', 'DOGE-USD']  \n",
    "start_date = datetime(2022, 11, 1, tzinfo=timezone('Asia/Tehran'))\n",
    "end_date = datetime(2023, 11, 1, tzinfo=timezone('Asia/Tehran'))\n",
    "counter = 0\n",
    "i=0    \n",
    "j=i+1\n",
    "cryptos_len = len(cryptos)\n",
    "while( counter <15):\n",
    "    crypto_group = [cryptos[i], cryptos[j]]\n",
    "    res_str, counter = find_cointegration( crypto_group, start_date, end_date, counter, res_str)     \n",
    "    j += 1\n",
    "    if j==cryptos_len:\n",
    "        i +=1\n",
    "        j =i+1\n",
    "\n",
    "    "
   ]
  },
  {
   "cell_type": "code",
   "execution_count": 28,
   "metadata": {},
   "outputs": [
    {
     "name": "stdout",
     "output_type": "stream",
     "text": [
      "'BTC-USD', 'USDT-USD'\n",
      " 1.64642604e-05 -9.75239265e+02\n",
      "----\n",
      "'BTC-USD', 'SOL-USD'\n",
      " 0.00025146 -0.23745998\n",
      "----\n",
      "'BTC-USD', 'USDC-USD'\n",
      " 1.12410297e-05 -2.61601355e+02\n",
      "----\n",
      "'BTC-USD', 'XRP-USD'\n",
      " 2.34532559e-04 -1.50526951e+01\n",
      "----\n",
      "'BTC-USD', 'DOGE-USD'\n",
      "8.90779426e-05 8.62475789e+01\n",
      "----\n",
      "'ETH-USD', 'USDT-USD'\n",
      " 6.05030251e-04 -9.79749463e+02\n",
      "----\n",
      "'ETH-USD', 'USDC-USD'\n",
      " 1.30019273e-04 -2.61425629e+02\n",
      "----\n",
      "'ETH-USD', 'STETH-USD'\n",
      " 0.11448221 -0.11140246\n",
      "----\n",
      "'ETH-USD', 'DOGE-USD'\n",
      "7.89136617e+01 1.53942557e-03\n",
      "----\n",
      "'USDT-USD', 'SOL-USD'\n",
      " 2.06361921e-02 -9.73833195e+02\n",
      "----\n",
      "'USDT-USD', 'USDC-USD'\n",
      "326.49657454 939.84355958\n",
      "----\n",
      "'USDT-USD', 'USDC-USD'\n",
      "-67.3532053  803.95008146\n",
      "----\n",
      "'USDT-USD', 'STETH-USD'\n",
      " 5.69620698e-04 -9.75351377e+02\n",
      "----\n",
      "'USDT-USD', 'BNB-USD'\n",
      " 5.98294543e-03 -9.96132322e+02\n",
      "----\n",
      "'USDT-USD', 'XRP-USD'\n",
      "978.17187506   1.65003243\n",
      "----\n",
      "\n"
     ]
    }
   ],
   "source": [
    "print(res_str)"
   ]
  },
  {
   "cell_type": "code",
   "execution_count": 29,
   "metadata": {},
   "outputs": [],
   "source": [
    "file_path = \"output.txt\"\n",
    "with open(file_path, 'w') as file:\n",
    "    file.write(res_str)"
   ]
  },
  {
   "cell_type": "code",
   "execution_count": 30,
   "metadata": {},
   "outputs": [
    {
     "name": "stdout",
     "output_type": "stream",
     "text": [
      "[*********************100%%**********************]  3 of 3 completed\n",
      "BTC-USD ETH-USD SOL-USD\n",
      "0.0004857416180584321 -0.006749029071452546 -0.17347195608095864\n",
      "P-Value: 0.0007332982345492613\n",
      "Hurst Exponent: 0.5492012637408994\n",
      "Half-Life: Cannot calculate half-life because the series is empty.\n",
      "-------------------------------------------------------------------------------------------------------\n"
     ]
    },
    {
     "data": {
      "text/plain": [
       "(\"'BTC-USD', 'ETH-USD', 'SOL-USD'\\n 0.00048574 -0.00674903 -0.17347196\\n----\\n\",\n",
       " 1)"
      ]
     },
     "execution_count": 30,
     "metadata": {},
     "output_type": "execute_result"
    }
   ],
   "source": [
    "find_cointegration(['BTC-USD', 'ETH-USD', 'SOL-USD'],start_date, end_date,0,'')"
   ]
  },
  {
   "cell_type": "code",
   "execution_count": 23,
   "metadata": {},
   "outputs": [
    {
     "name": "stdout",
     "output_type": "stream",
     "text": [
      "[*********************100%%**********************]  3 of 3 completed\n"
     ]
    }
   ],
   "source": [
    "new_data = download_4h_data(['BTC-USD', 'ETH-USD', 'SOL-USD'],start_date,end_date)"
   ]
  },
  {
   "cell_type": "code",
   "execution_count": 98,
   "metadata": {},
   "outputs": [],
   "source": [
    "new_data ['new_price'] = new_data['BTC-USD'] * 0.0004857416180584321 + new_data[\"ETH-USD\"] * (-0.006749029071452546 ) + \\\n",
    "                        new_data['SOL-USD'] * (-0.17347195608095864)"
   ]
  },
  {
   "cell_type": "code",
   "execution_count": 99,
   "metadata": {},
   "outputs": [
    {
     "data": {
      "text/plain": [
       "0.0007332982345492455"
      ]
     },
     "execution_count": 99,
     "metadata": {},
     "output_type": "execute_result"
    }
   ],
   "source": [
    "adfuller(new_data['new_price'])[1]"
   ]
  },
  {
   "cell_type": "code",
   "execution_count": null,
   "metadata": {},
   "outputs": [],
   "source": []
  },
  {
   "cell_type": "code",
   "execution_count": null,
   "metadata": {},
   "outputs": [],
   "source": []
  }
 ],
 "metadata": {
  "kernelspec": {
   "display_name": "Python 3",
   "language": "python",
   "name": "python3"
  },
  "language_info": {
   "codemirror_mode": {
    "name": "ipython",
    "version": 3
   },
   "file_extension": ".py",
   "mimetype": "text/x-python",
   "name": "python",
   "nbconvert_exporter": "python",
   "pygments_lexer": "ipython3",
   "version": "3.11.6"
  }
 },
 "nbformat": 4,
 "nbformat_minor": 2
}
